{
 "cells": [
  {
   "cell_type": "markdown",
   "metadata": {},
   "source": [
    "## Handling large dataset in-memory"
   ]
  },
  {
   "cell_type": "code",
   "execution_count": 2,
   "metadata": {},
   "outputs": [
    {
     "name": "stderr",
     "output_type": "stream",
     "text": [
      "/home/rz20505/miniforge3/envs/text-labels/lib/python3.8/site-packages/distributed/node.py:182: UserWarning: Port 8787 is already in use.\n",
      "Perhaps you already have a cluster running?\n",
      "Hosting the HTTP server on port 40963 instead\n",
      "  warnings.warn(\n",
      "2024-04-23 09:38:17,858 - distributed.preloading - INFO - Creating preload: dask_cuda.initialize\n",
      "2024-04-23 09:38:17,858 - distributed.preloading - INFO - Import preload module: dask_cuda.initialize\n"
     ]
    },
    {
     "data": {
      "text/html": [
       "<div>\n",
       "<style scoped>\n",
       "    .dataframe tbody tr th:only-of-type {\n",
       "        vertical-align: middle;\n",
       "    }\n",
       "\n",
       "    .dataframe tbody tr th {\n",
       "        vertical-align: top;\n",
       "    }\n",
       "\n",
       "    .dataframe thead th {\n",
       "        text-align: right;\n",
       "    }\n",
       "</style>\n",
       "<table border=\"1\" class=\"dataframe\">\n",
       "  <thead>\n",
       "    <tr style=\"text-align: right;\">\n",
       "      <th></th>\n",
       "      <th>endDate</th>\n",
       "      <th>fundAmount</th>\n",
       "      <th>description</th>\n",
       "      <th>funder</th>\n",
       "      <th>url</th>\n",
       "      <th>status</th>\n",
       "      <th>name</th>\n",
       "      <th>originalID</th>\n",
       "      <th>fundAmountUK</th>\n",
       "      <th>dataSource</th>\n",
       "      <th>participants</th>\n",
       "      <th>topics</th>\n",
       "      <th>fundCurrency</th>\n",
       "      <th>grantCategory</th>\n",
       "      <th>startDate</th>\n",
       "      <th>fundScheme</th>\n",
       "    </tr>\n",
       "  </thead>\n",
       "  <tbody>\n",
       "    <tr>\n",
       "      <th>0</th>\n",
       "      <td>2024-03-27 00:00:00+00:00</td>\n",
       "      <td>0</td>\n",
       "      <td>The search to understand the nature of the elu...</td>\n",
       "      <td>STFC</td>\n",
       "      <td>https://gtr.ukri.org/project/00014AFD-3C1F-410...</td>\n",
       "      <td>Active</td>\n",
       "      <td>Exploring the dark universe with quantum techn...</td>\n",
       "      <td>&lt;NA&gt;</td>\n",
       "      <td>&lt;NA&gt;</td>\n",
       "      <td>GTR</td>\n",
       "      <td>&lt;NA&gt;</td>\n",
       "      <td>[]</td>\n",
       "      <td>GBP</td>\n",
       "      <td>Studentship</td>\n",
       "      <td>2020-09-28 00:00:00+00:00</td>\n",
       "      <td>&lt;NA&gt;</td>\n",
       "    </tr>\n",
       "    <tr>\n",
       "      <th>1</th>\n",
       "      <td>2019-05-31 00:00:00+00:00</td>\n",
       "      <td>71429</td>\n",
       "      <td>Chromition have developed innovative and disru...</td>\n",
       "      <td>HORIZON 2020</td>\n",
       "      <td>https://cordis.europa.eu/project/id/837088</td>\n",
       "      <td>CLOSED</td>\n",
       "      <td>DCDP - Digital Cancer Diagnosis Platform</td>\n",
       "      <td>837088.0</td>\n",
       "      <td>71429.0</td>\n",
       "      <td>CORDIS</td>\n",
       "      <td>&lt;NA&gt;</td>\n",
       "      <td>['oncology', 'pathology', 'personalized medici...</td>\n",
       "      <td>EUR</td>\n",
       "      <td>&lt;NA&gt;</td>\n",
       "      <td>2018-12-01 00:00:00+00:00</td>\n",
       "      <td>&lt;NA&gt;</td>\n",
       "    </tr>\n",
       "    <tr>\n",
       "      <th>2</th>\n",
       "      <td>2027-09-30 00:00:00+00:00</td>\n",
       "      <td>0</td>\n",
       "      <td>&lt;NA&gt;</td>\n",
       "      <td>BBSRC</td>\n",
       "      <td>https://gtr.ukri.org/project/00022364-C7A7-401...</td>\n",
       "      <td>Active</td>\n",
       "      <td>Exploring the role of vitamin transport in ins...</td>\n",
       "      <td>&lt;NA&gt;</td>\n",
       "      <td>&lt;NA&gt;</td>\n",
       "      <td>GTR</td>\n",
       "      <td>&lt;NA&gt;</td>\n",
       "      <td>[]</td>\n",
       "      <td>GBP</td>\n",
       "      <td>Studentship</td>\n",
       "      <td>2023-10-01 00:00:00+00:00</td>\n",
       "      <td>&lt;NA&gt;</td>\n",
       "    </tr>\n",
       "    <tr>\n",
       "      <th>3</th>\n",
       "      <td>2014-09-30 00:00:00+00:00</td>\n",
       "      <td>325895</td>\n",
       "      <td>Our brains have to deal with ambiguity and unc...</td>\n",
       "      <td>BBSRC</td>\n",
       "      <td>https://gtr.ukri.org/project/0002BEF3-B070-448...</td>\n",
       "      <td>Closed</td>\n",
       "      <td>Bayesian issues in ant navigation</td>\n",
       "      <td>&lt;NA&gt;</td>\n",
       "      <td>&lt;NA&gt;</td>\n",
       "      <td>GTR</td>\n",
       "      <td>&lt;NA&gt;</td>\n",
       "      <td>['Behavioural Ecology', 'Theoretical biology',...</td>\n",
       "      <td>GBP</td>\n",
       "      <td>Research Grant</td>\n",
       "      <td>2011-08-01 00:00:00+00:00</td>\n",
       "      <td>&lt;NA&gt;</td>\n",
       "    </tr>\n",
       "    <tr>\n",
       "      <th>4</th>\n",
       "      <td>2019-02-28 00:00:00+00:00</td>\n",
       "      <td>149783</td>\n",
       "      <td>TB is transmitted via person-to-person aerosol...</td>\n",
       "      <td>HORIZON 2020</td>\n",
       "      <td>https://cordis.europa.eu/project/id/727695</td>\n",
       "      <td>CLOSED</td>\n",
       "      <td>TB-EPF - Enhanced Place Finding (EPF) of TB tr...</td>\n",
       "      <td>727695.0</td>\n",
       "      <td>31662.0</td>\n",
       "      <td>CORDIS</td>\n",
       "      <td>&lt;NA&gt;</td>\n",
       "      <td>['public health', 'infectious diseases', 'tube...</td>\n",
       "      <td>EUR</td>\n",
       "      <td>&lt;NA&gt;</td>\n",
       "      <td>2017-09-01 00:00:00+00:00</td>\n",
       "      <td>&lt;NA&gt;</td>\n",
       "    </tr>\n",
       "  </tbody>\n",
       "</table>\n",
       "</div>"
      ],
      "text/plain": [
       "                     endDate  fundAmount  \\\n",
       "0  2024-03-27 00:00:00+00:00           0   \n",
       "1  2019-05-31 00:00:00+00:00       71429   \n",
       "2  2027-09-30 00:00:00+00:00           0   \n",
       "3  2014-09-30 00:00:00+00:00      325895   \n",
       "4  2019-02-28 00:00:00+00:00      149783   \n",
       "\n",
       "                                         description        funder  \\\n",
       "0  The search to understand the nature of the elu...          STFC   \n",
       "1  Chromition have developed innovative and disru...  HORIZON 2020   \n",
       "2                                               <NA>         BBSRC   \n",
       "3  Our brains have to deal with ambiguity and unc...         BBSRC   \n",
       "4  TB is transmitted via person-to-person aerosol...  HORIZON 2020   \n",
       "\n",
       "                                                 url  status  \\\n",
       "0  https://gtr.ukri.org/project/00014AFD-3C1F-410...  Active   \n",
       "1         https://cordis.europa.eu/project/id/837088  CLOSED   \n",
       "2  https://gtr.ukri.org/project/00022364-C7A7-401...  Active   \n",
       "3  https://gtr.ukri.org/project/0002BEF3-B070-448...  Closed   \n",
       "4         https://cordis.europa.eu/project/id/727695  CLOSED   \n",
       "\n",
       "                                                name originalID fundAmountUK  \\\n",
       "0  Exploring the dark universe with quantum techn...       <NA>         <NA>   \n",
       "1           DCDP - Digital Cancer Diagnosis Platform   837088.0      71429.0   \n",
       "2  Exploring the role of vitamin transport in ins...       <NA>         <NA>   \n",
       "3                  Bayesian issues in ant navigation       <NA>         <NA>   \n",
       "4  TB-EPF - Enhanced Place Finding (EPF) of TB tr...   727695.0      31662.0   \n",
       "\n",
       "  dataSource participants                                             topics  \\\n",
       "0        GTR         <NA>                                                 []   \n",
       "1     CORDIS         <NA>  ['oncology', 'pathology', 'personalized medici...   \n",
       "2        GTR         <NA>                                                 []   \n",
       "3        GTR         <NA>  ['Behavioural Ecology', 'Theoretical biology',...   \n",
       "4     CORDIS         <NA>  ['public health', 'infectious diseases', 'tube...   \n",
       "\n",
       "  fundCurrency   grantCategory                  startDate fundScheme  \n",
       "0          GBP     Studentship  2020-09-28 00:00:00+00:00       <NA>  \n",
       "1          EUR            <NA>  2018-12-01 00:00:00+00:00       <NA>  \n",
       "2          GBP     Studentship  2023-10-01 00:00:00+00:00       <NA>  \n",
       "3          GBP  Research Grant  2011-08-01 00:00:00+00:00       <NA>  \n",
       "4          EUR            <NA>  2017-09-01 00:00:00+00:00       <NA>  "
      ]
     },
     "execution_count": 2,
     "metadata": {},
     "output_type": "execute_result"
    }
   ],
   "source": [
    "# Import libraries\n",
    "import cudf\n",
    "import pandas as pd\n",
    "import dask.dataframe as dd\n",
    "from dask_cuda import LocalCUDACluster\n",
    "from dask.distributed import Client\n",
    "\n",
    "# Setup Dask CUDA Cluster\n",
    "cluster = LocalCUDACluster()\n",
    "client = Client(cluster)\n",
    "\n",
    "# Load data using cuDF for GPU acceleration\n",
    "file_path = '../data/data.csv'\n",
    "\n",
    "# Using cuDF to read the CSV file into GPU memory\n",
    "gdf = cudf.read_csv(file_path)\n",
    "\n",
    "gdf.head()\n"
   ]
  },
  {
   "cell_type": "code",
   "execution_count": 3,
   "metadata": {},
   "outputs": [
    {
     "data": {
      "text/plain": [
       "(158407, 16)"
      ]
     },
     "execution_count": 3,
     "metadata": {},
     "output_type": "execute_result"
    }
   ],
   "source": [
    "gdf.shape"
   ]
  },
  {
   "cell_type": "markdown",
   "metadata": {},
   "source": [
    "### Create csv for 'description' 'name' and 'topics' columns"
   ]
  },
  {
   "cell_type": "code",
   "execution_count": 5,
   "metadata": {},
   "outputs": [],
   "source": [
    "desc_name_topics = gdf[['description', 'name', 'topics']]\n",
    "\n",
    "desc_name_topics.to_csv('../data/desc-name-topics.csv', index=False)\n"
   ]
  },
  {
   "cell_type": "code",
   "execution_count": 6,
   "metadata": {},
   "outputs": [
    {
     "data": {
      "text/plain": [
       "(158407, 3)"
      ]
     },
     "execution_count": 6,
     "metadata": {},
     "output_type": "execute_result"
    },
    {
     "ename": "",
     "evalue": "",
     "output_type": "error",
     "traceback": [
      "\u001b[1;31mThe Kernel crashed while executing code in the current cell or a previous cell. \n",
      "\u001b[1;31mPlease review the code in the cell(s) to identify a possible cause of the failure. \n",
      "\u001b[1;31mClick <a href='https://aka.ms/vscodeJupyterKernelCrash'>here</a> for more info. \n",
      "\u001b[1;31mView Jupyter <a href='command:jupyter.viewOutput'>log</a> for further details."
     ]
    }
   ],
   "source": [
    "desc_name_topics.shape"
   ]
  },
  {
   "cell_type": "code",
   "execution_count": null,
   "metadata": {},
   "outputs": [],
   "source": []
  }
 ],
 "metadata": {
  "kernelspec": {
   "display_name": "text-labels",
   "language": "python",
   "name": "python3"
  },
  "language_info": {
   "codemirror_mode": {
    "name": "ipython",
    "version": 3
   },
   "file_extension": ".py",
   "mimetype": "text/x-python",
   "name": "python",
   "nbconvert_exporter": "python",
   "pygments_lexer": "ipython3",
   "version": "3.8.15"
  }
 },
 "nbformat": 4,
 "nbformat_minor": 2
}
