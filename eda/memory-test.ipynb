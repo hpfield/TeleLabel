{
 "cells": [
  {
   "cell_type": "code",
   "execution_count": 9,
   "metadata": {},
   "outputs": [
    {
     "data": {
      "text/html": [
       "<div>\n",
       "<style scoped>\n",
       "    .dataframe tbody tr th:only-of-type {\n",
       "        vertical-align: middle;\n",
       "    }\n",
       "\n",
       "    .dataframe tbody tr th {\n",
       "        vertical-align: top;\n",
       "    }\n",
       "\n",
       "    .dataframe thead th {\n",
       "        text-align: right;\n",
       "    }\n",
       "</style>\n",
       "<table border=\"1\" class=\"dataframe\">\n",
       "  <thead>\n",
       "    <tr style=\"text-align: right;\">\n",
       "      <th></th>\n",
       "      <th>description</th>\n",
       "      <th>name</th>\n",
       "      <th>topics</th>\n",
       "    </tr>\n",
       "  </thead>\n",
       "  <tbody>\n",
       "    <tr>\n",
       "      <th>0</th>\n",
       "      <td>The search to understand the nature of the elu...</td>\n",
       "      <td>Exploring the dark universe with quantum techn...</td>\n",
       "      <td>[]</td>\n",
       "    </tr>\n",
       "    <tr>\n",
       "      <th>1</th>\n",
       "      <td>Chromition have developed innovative and disru...</td>\n",
       "      <td>DCDP - Digital Cancer Diagnosis Platform</td>\n",
       "      <td>[oncology, pathology, personalized medicine, p...</td>\n",
       "    </tr>\n",
       "    <tr>\n",
       "      <th>2</th>\n",
       "      <td>NaN</td>\n",
       "      <td>Exploring the role of vitamin transport in ins...</td>\n",
       "      <td>[]</td>\n",
       "    </tr>\n",
       "    <tr>\n",
       "      <th>3</th>\n",
       "      <td>Our brains have to deal with ambiguity and unc...</td>\n",
       "      <td>Bayesian issues in ant navigation</td>\n",
       "      <td>[Behavioural Ecology, Theoretical biology, Ani...</td>\n",
       "    </tr>\n",
       "    <tr>\n",
       "      <th>4</th>\n",
       "      <td>TB is transmitted via person-to-person aerosol...</td>\n",
       "      <td>TB-EPF - Enhanced Place Finding (EPF) of TB tr...</td>\n",
       "      <td>[public health, infectious diseases, tuberculo...</td>\n",
       "    </tr>\n",
       "  </tbody>\n",
       "</table>\n",
       "</div>"
      ],
      "text/plain": [
       "                                         description  \\\n",
       "0  The search to understand the nature of the elu...   \n",
       "1  Chromition have developed innovative and disru...   \n",
       "2                                                NaN   \n",
       "3  Our brains have to deal with ambiguity and unc...   \n",
       "4  TB is transmitted via person-to-person aerosol...   \n",
       "\n",
       "                                                name  \\\n",
       "0  Exploring the dark universe with quantum techn...   \n",
       "1           DCDP - Digital Cancer Diagnosis Platform   \n",
       "2  Exploring the role of vitamin transport in ins...   \n",
       "3                  Bayesian issues in ant navigation   \n",
       "4  TB-EPF - Enhanced Place Finding (EPF) of TB tr...   \n",
       "\n",
       "                                              topics  \n",
       "0                                                 []  \n",
       "1  [oncology, pathology, personalized medicine, p...  \n",
       "2                                                 []  \n",
       "3  [Behavioural Ecology, Theoretical biology, Ani...  \n",
       "4  [public health, infectious diseases, tuberculo...  "
      ]
     },
     "execution_count": 9,
     "metadata": {},
     "output_type": "execute_result"
    }
   ],
   "source": [
    "# Import libraries\n",
    "import pandas as pd\n",
    "import ast\n",
    "\n",
    "\n",
    "# Load data using cuDF for GPU acceleration\n",
    "file_path = '../data/desc-name-topics.csv'\n",
    "\n",
    "# Using cuDF to read the CSV file into GPU memory\n",
    "df = pd.read_csv(file_path)\n",
    "\n",
    "df['topics'] = df['topics'].apply(lambda x: ast.literal_eval(x) if x else [])\n",
    "\n",
    "df.head()"
   ]
  },
  {
   "cell_type": "code",
   "execution_count": 10,
   "metadata": {},
   "outputs": [
    {
     "data": {
      "text/plain": [
       "(158407, 3)"
      ]
     },
     "execution_count": 10,
     "metadata": {},
     "output_type": "execute_result"
    }
   ],
   "source": [
    "df.shape"
   ]
  },
  {
   "cell_type": "markdown",
   "metadata": {},
   "source": [
    "### Finding repeated values so that they can be removed"
   ]
  },
  {
   "cell_type": "code",
   "execution_count": 11,
   "metadata": {},
   "outputs": [
    {
     "name": "stdout",
     "output_type": "stream",
     "text": [
      "TBC 2024/25                                                                                                                                                                                                                                                                                                                                                                                                                                                                                                                                                                                                                                                                                                                                                                                                                                                                                                                                                                                                                                                                                                                                                                                                                                                                                                                                                                                                                                                                                                                                                                                                                                                                                                                                                                                                                                                                                                                                                                                                                                                                                                                                                                                                                                                                                                                                                                                                                                                                                                                                                                                                                                                                                                                                                                                                                                                                                                                                                                                                                                                                                                                                                                                                                                                                                                                                                                                                                                                                                                                                                                                                                                                                                                                                                                                                                                                                                                                                                                                                                                                                                                             25\n",
      "Student projects are not confirmed until term 3. We would update the record with the project details in the next batch update.                                                                                                                                                                                                                                                                                                                                                                                                                                                                                                                                                                                                                                                                                                                                                                                                                                                                                                                                                                                                                                                                                                                                                                                                                                                                                                                                                                                                                                                                                                                                                                                                                                                                                                                                                                                                                                                                                                                                                                                                                                                                                                                                                                                                                                                                                                                                                                                                                                                                                                                                                                                                                                                                                                                                                                                                                                                                                                                                                                                                                                                                                                                                                                                                                                                                                                                                                                                                                                                                                                                                                                                                                                                                                                                                                                                                                                                                                                                                                                                          25\n",
      "CDT year 1 so TBC in Oct 2024                                                                                                                                                                                                                                                                                                                                                                                                                                                                                                                                                                                                                                                                                                                                                                                                                                                                                                                                                                                                                                                                                                                                                                                                                                                                                                                                                                                                                                                                                                                                                                                                                                                                                                                                                                                                                                                                                                                                                                                                                                                                                                                                                                                                                                                                                                                                                                                                                                                                                                                                                                                                                                                                                                                                                                                                                                                                                                                                                                                                                                                                                                                                                                                                                                                                                                                                                                                                                                                                                                                                                                                                                                                                                                                                                                                                                                                                                                                                                                                                                                                                                           15\n",
      "Investigation into the properties of elementary particles and the fundamental forces of nature. Precision tests of the Standard Model (SM); searches for new phenomena and extensions to the SM; studies of CP violation in the b-system; measurement of neutrino oscillation parameters; WIMP dark matter searches, preparations for future experiments, including HL-LHC, feasibility studies for future neutrino facilities, double-beta decay experiments, gravitational wave detectors, future colliders, and applications of accelerator and detector technologies to medicine and non-proliferation.                                                                                                                                                                                                                                                                                                                                                                                                                                                                                                                                                                                                                                                                                                                                                                                                                                                                                                                                                                                                                                                                                                                                                                                                                                                                                                                                                                                                                                                                                                                                                                                                                                                                                                                                                                                                                                                                                                                                                                                                                                                                                                                                                                                                                                                                                                                                                                                                                                                                                                                                                                                                                                                                                                                                                                                                                                                                                                                                                                                                                                                                                                                                                                                                                                                                                                                                                                                                                                                                                                             14\n",
      "This MRC-funded doctoral training partnership (DTP) brings together cutting-edge molecular and analytical sciences with innovative computational approaches in data analysis to enable students to address hypothesis-led biomedical research questions. This is a 4-year programme whose first year involves a series of taught modules and two laboratory-based research projects that lead to an MSc in Interdisciplinary Biomedical Research. The first two terms consist of a selection of taught modules that allow students to gain a solid grounding in multidisciplinary science while gaining key transferable skills. Students also attend a series of masterclasses led by academic and industry experts to provide students with the skills to uncover the molecular basis of human disease and to develop new techniques, analytical tools, molecular, chemical and cell-based therapies for disease diagnosis and treatment. During the third and summer terms students conduct two eleven-week research projects in labs of their choice.                                                                                                                                                                                                                                                                                                                                                                                                                                                                                                                                                                                                                                                                                                                                                                                                                                                                                                                                                                                                                                                                                                                                                                                                                                                                                                                                                                                                                                                                                                                                                                                                                                                                                                                                                                                                                                                                                                                                                                                                                                                                                                                                                                                                                                                                                                                                                                                                                                                                                                                                                                                                                                                                                                                                                                                                                                                                                                                                                                                                                                                               14\n",
      "                                                                                                                                                                                                                                                                                                                                                                                                                                                                                                                                                                                                                                                                                                                                                                                                                                                                                                                                                                                                                                                                                                                                                                                                                                                                                                                                                                                                                                                                                                                                                                                                                                                                                                                                                                                                                                                                                                                                                                                                                                                                                                                                                                                                                                                                                                                                                                                                                                                                                                                                                                                                                                                                                                                                                                                                                                                                                                                                                                                                                                                                                                                                                                                                                                                                                                                                                                                                                                                                                                                                                                                                                                                                                                                                                                                                                                                                                                                                                                                                                                                                                                                        ..\n",
      "This research focuses on statistical calibration of agent-based models (ABMs) of transport based on aggregate data. ABMs aim to understand the effect of interacting individual choices (e.g. route travel choices) on emergent behaviour (e.g. network traffic patterns) via a set of probabilistic rules. ABMs' recent rise in popularity in epidemic modelling raised important questions about their identifiability and predictive power especially in policy scenario testing (e.g. introduction of pedestrianised streets). The research aims develop computational statistics and machine learning techniques to address those questions by understanding discrete individual agent choices from coarsely observed data. This poses great computational challenges as it necessitates the exploration of a combinatorial space of agent decisions. The problem is tackled in two contexts: population synthesis and ABM simulation. The former is a pre-processing step that creates artificial agents whose socio-economic attributes have the same statistical properties as those described by population averages while the latter uses coarse data to reconstruct agent trajectories in space-time generated by discrete agent choices and/or continuous decision parameters.                                                                                                                                                                                                                                                                                                                                                                                                                                                                                                                                                                                                                                                                                                                                                                                                                                                                                                                                                                                                                                                                                                                                                                                                                                                                                                                                                                                                                                                                                                                                                                                                                                                                                                                                                                                                                                                                                                                                                                                                                                                                                                                                                                                                                                                                                                                                                                                                                                                                                                                                                                                                                                                                                                                                                                                                                               1\n",
      "The theme of this project is the interaction between structure and dynamics in soft matter systems. All soft matter systems exhibit structure (e.g. the arrangement of monomers and side branches in a copolymer, or the packing of particles in a colloid) and these structures affect the flow and dynamics of the material (e.g. the emergence of phase separated patterns, or the way a food item feels in the mouth). This project will focus on investigation of soft matter structure and dynamics. Within the CDT for Soft Matter and Formulation for Industrial Innovation, a choice of PhD topics will be offered within this broad theme, in the University of Leeds, such as: \\n- Many-blob modelling: Developing the theoretical underpinning of protein unfolding in biocompatible and biodegradable hydrogels\\n- Sustainable packaging from agricultural waste (sponsored by Futamura)\\n- Developing oxygen-impermeable microfibre networks for encapsulation of sensitive probiotics                                                                                                                                                                                                                                                                                                                                                                                                                                                                                                                                                                                                                                                                                                                                                                                                                                                                                                                                                                                                                                                                                                                                                                                                                                                                                                                                                                                                                                                                                                                                                                                                                                                                                                                                                                                                                                                                                                                                                                                                                                                                                                                                                                                                                                                                                                                                                                                                                                                                                                                                                                                                                                                                                                                                                                                                                                                                                                                                                                                                                                                                                                                     1\n",
      "Some human beings are bitten more than others by mosquitoes. From an evolutionary perspective this is fundamentally important since those that get bitten less often are less likely to die from lethal mosquito-borne diseases like malaria. Thus there is likely to be a selective advantage for being less attractive to malaria mosquitoes. Whether or not this is due to natural selection in humans, or because mosquitoes are simply avoiding unsuitable hosts is unknown, but our previous studies show that human differential attractiveness to mosquitoes is due to the natural production of key repellent chemicals given off by individuals who rarely get bitten. Essentially this could be thought of as the first line of defence related to the immune system. In a recent pilot study we showed that for Europeans how attractive you are to mosquitoes is controlled by your genes. We intend to extend this line of research and carry out a similar study amongst an indigenous African population that has traditionally been under intense selective pressure from malaria. Here we would anticipate finding genes for new repellent molecules that are under selection. The natural repellent chemicals that we have identified from our study of Europeans are effective repellents when applied to the skin, but what remains unknown is how the body produces these chemicals and which genes control this process. Preliminary studies show that some of the repellents can be produced by skin cells and there are likely candidate genes as potential targets. In this study we aim to compare identical and non-identical twins using chemical ecology and molecular genetic techniques to identify how the chemicals are produced and which genes are involved in production and regulation. This will give an understanding of how the body provides an important component of natural resistance to mosquitoes and provide a new potential treatment which stimulates production of these repellent chemicals in susceptible human beings. This could allow us to develop a more persistent application and eventually an oral treatment in the form of a pill which enhances the production of natural repellents to protect against mosquito bites, minimising the need for repeated skin-applied volatile repellents. This research has the potential to find new mosquito repellents that could be produced systemically, and elucidate one of the least understood innate immunity mechanisms: how we use chemical warfare to hide from vectors.                                                                                                                                                                                                                                                                                                                                                                                                                                                                                                                                                                                                                                                                                                                                                                                                                                                                                                                                                                                                                                                                                                                                                                                                                                                                                                                                                                                                                                                                                                                                 1\n",
      "Network measurement may have social, engineering or commercial motivations. Typical social motivations include the need to understand popular usage and to answer questions about social-networking sites; other possibilities include use as part of legal evidence to illustrate the (lack of) impact of regulation upon the popularity of peer-2-peer networks. The engineering application of measurement is an integral part of the network optimisation process / both to provide a baseline of pre-optimised performance and to quantify improvements. Another area of application is as part of measurement-based algorithms for controlling network access. Commercially, measurement is critical to guaranteeing Service Level Agreements (SLAs) between network and service providers and customers. These SLAs provide enforceable guarantees on the upper bounds of packet level performance; e.g. they state that mean delay, delay variation (sometimes called jitter ) and packet loss probability will not exceed a specified value when measured over an agreed period.However a critical problem is that network traffic and topologies are highly variable and this tends to create difficulties in measuring accurately. For this reason measurement can be prone to very large errors in estimating end-to-end delay (both mean delay and jitter) and packet loss rates. Indeed the optimal measurement of packet level performance is a challenging open problem in engineering mathematics.Current measurement methods are not actually designed to provide the maximum information from the minimum data set. In this project the crucial step is to view all network measurements as numerical experiments, in which random processes are sampled, and the sampling is constrained by the resources available, e.g. bandwidth. In this way we are then able to apply the Statistical Design of Experiments (DOE) to network measurement experiments.DOE techniques have been very successfully applied in linear and static environments, mainly in biological and some industrial contexts. Most work on DOE has assumed static processes, or deals only with the static aspects of the processes, but network traffic and topologies are highly variable and nonlinear. The first work on DOE for models which are solutions of nonlinear differential equations was in the field of chemical kinetics, co-authored by a member of the Statistics Group at Queen Mary. Subsequent work at Queen Mary has further developed DOE for nonlinear models, or nonlinear functions of the parameters in a linear model. Although the models involved are fairly small-scale compared with those arising in networks, having a single input variable and no feedback, this has provided a good starting point.In parallel with the DOE thread at Queen Mary (Statistics Group and Networks Group), the University of Cambridge (Computer Lab) builds on experience in techniques for packet (or packet flow) classification. Such techniques for the classification of network traffic have previously used features derived from streams of packets. Such feature collections are often huge (200+), and can range in complexity from Fourier-Transformations and quartile statistics to mean and variance of packet inter-arrival times and the number of TCP SACK packets. Classification accuracy is often good, but with the disadvantage of complexity and cost. In this project such previous experience with lightweight application classification schemes are re-oriented towards learning the traffic characteristics that are critical in their influence on delay and loss performance. This approach to focus on actual experimental observations; a better approach than relying on simple queue models that have inbuilt (and limiting) distributions chosen mainly to allow the resulting system of equations to be solved.The combination of DOE and machine learning promises a real step towards solving the problem of the optimal measurement of packet level performance.     1\n",
      "To ensure food security and sustainable livelihoods for a growing population, African agriculture needs to undergo transformational change to increase productivity and resilience to climate change and insect pests. The food system depends on production by millions of smallholder farmers and how to reach them and facilitate farm improvements is a generic challenge and a tremendous opportunity. Our cluster will explore how to improve on-farm innovation, focusing on the biocontrol of crop pests with safe, cheap and environmentally friendly improvements. \\nWe will identify the country-dependent context for the adoption of biocontrol innovations, their compatibility with other farming practices, and the potential to advocate for agricultural policy developments in this sector. We will identify the lessons learned where these innovations have been applied successfully and the country-dependent issues that prevent the upscaling of these biocontrol innovations. We will examine ways in which the innovations can be supported in relation to local, district and national agricultural practices and policies.\\nThe cluster will explore how to improve uptake of biocontrol practices by farmers and how to optimise knowledge exchange. The cluster will develop farmer-farmer networking and knowledge sharing, building on a successful model developed by NM-AIST, and explore how this can be enhanced using mobile phone technology. This foundation will help to define the research questions and programme of Stage 2.\\nProject goals will be achieved through a synthesis of the current state of knowledge and understanding about biocontrol approaches, their success and limitations and by actively developing communication tools for knowledge exchange. To do this we will engage with farmers and other key stakeholders to co-design appropriate mechanisms for sharing information and empowering farmers. Crucially, we will, from the outset, involve the intended &quot;end-user&quot; in the development of our programme so that new approaches can be co-designed with those benefiting from our research outcomes. Success in delivery of new crop protection solutions is critically dependent on active engagement of potential users throughout the programme. Our project will explore how to gather information from many remote smallholder farms and how to target new technologies to places where they are of maximum benefit.                                                                                                                                                                                                                                                                                                                                                                                                                                                                                                                                                                                                                                                                                                                                                                                                                                                                                                                                                                                                                                                                                                                                                                                                                                                                                                                                                                                                                                                                                                                                                                                                            1\n",
      "Name: description, Length: 126316, dtype: int64\n",
      "TBC                                                                              280\n",
      "BBSRC Industrial CASE Partnership Grant                                          215\n",
      "Retrofit for the Future                                                          203\n",
      "Quota Studentships                                                               142\n",
      "To be confirmed                                                                  142\n",
      "                                                                                ... \n",
      "Durable Materials Bonding for High-Temperature Coating Indentation (DURABOND)      1\n",
      "COVID-19: Measuring the effects of Covid-19 on businesses and the UK economy       1\n",
      "Compact Deep UV Resonant Raman Instrument for in line measurement of proteins      1\n",
      "From niche 'in clinic' diagnostic to high-volume home-use medical product          1\n",
      "Scaling up biocontrol innovations in Africa                                        1\n",
      "Name: name, Length: 142277, dtype: int64\n"
     ]
    }
   ],
   "source": [
    "# Print repeated values from the description and name columns\n",
    "print(df['description'].value_counts())\n",
    "print(df['name'].value_counts())\n"
   ]
  },
  {
   "cell_type": "code",
   "execution_count": 12,
   "metadata": {},
   "outputs": [
    {
     "data": {
      "text/plain": [
       "(147475, 3)"
      ]
     },
     "execution_count": 12,
     "metadata": {},
     "output_type": "execute_result"
    }
   ],
   "source": [
    "# Lets remove all of the rows where the value in 'description' or 'name' appears more than once in the dataset\n",
    "df = df.drop_duplicates(subset=['description', 'name'])\n",
    "df.shape"
   ]
  },
  {
   "cell_type": "code",
   "execution_count": 13,
   "metadata": {},
   "outputs": [
    {
     "data": {
      "text/plain": [
       "(127405, 3)"
      ]
     },
     "execution_count": 13,
     "metadata": {},
     "output_type": "execute_result"
    }
   ],
   "source": [
    "# Remove rows where the 'description' column is missing a value\n",
    "df = df.dropna(subset=['description'])\n",
    "df.shape"
   ]
  },
  {
   "cell_type": "markdown",
   "metadata": {},
   "source": [
    "### Separating into labelled and unlabelled"
   ]
  },
  {
   "cell_type": "code",
   "execution_count": 14,
   "metadata": {},
   "outputs": [
    {
     "name": "stdout",
     "output_type": "stream",
     "text": [
      "labelled: \t (52664, 3)\n",
      "unlabelled: \t (74741, 3)\n"
     ]
    }
   ],
   "source": [
    "# Now we separate the data based on whether there is a value in the topics column or it is an empty list\n",
    "# This will serve as our labelled and unlabelled data\n",
    "labelled_data = df[df['topics'].apply(lambda x: len(x) > 0 if isinstance(x, list) else False)]\n",
    "unlabelled_data = df[df['topics'].apply(lambda x: len(x) == 0 if isinstance(x, list) else True)]\n",
    "\n",
    "print('labelled: \\t',labelled_data.shape)\n",
    "print('unlabelled: \\t',unlabelled_data.shape)"
   ]
  },
  {
   "cell_type": "code",
   "execution_count": 15,
   "metadata": {},
   "outputs": [],
   "source": [
    "labelled_data.to_csv('../data/labelled-desc-name-topics.csv', index=False)\n",
    "unlabelled_data.to_csv('../data/unlabelled-desc-name-topics.csv', index=False)"
   ]
  },
  {
   "cell_type": "code",
   "execution_count": null,
   "metadata": {},
   "outputs": [],
   "source": []
  }
 ],
 "metadata": {
  "kernelspec": {
   "display_name": "text-labels",
   "language": "python",
   "name": "python3"
  },
  "language_info": {
   "codemirror_mode": {
    "name": "ipython",
    "version": 3
   },
   "file_extension": ".py",
   "mimetype": "text/x-python",
   "name": "python",
   "nbconvert_exporter": "python",
   "pygments_lexer": "ipython3",
   "version": "3.8.15"
  }
 },
 "nbformat": 4,
 "nbformat_minor": 2
}
