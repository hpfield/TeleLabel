{
 "cells": [
  {
   "cell_type": "markdown",
   "metadata": {},
   "source": [
    "# Extract Cordis rows from df"
   ]
  },
  {
   "cell_type": "code",
   "execution_count": 10,
   "metadata": {},
   "outputs": [],
   "source": [
    "# Import libraries\n",
    "import pandas as pd\n",
    "import ast\n",
    "import numpy as np\n"
   ]
  },
  {
   "cell_type": "code",
   "execution_count": null,
   "metadata": {},
   "outputs": [],
   "source": [
    "\n",
    "# Cordis data will be in the labelled data\n",
    "file_path = '../data/data.csv'\n",
    "\n",
    "df = pd.read_csv(file_path)\n",
    "\n",
    "# Formatting strings back into arrays\n",
    "df['topics'] = df['topics'].apply(lambda x: ast.literal_eval(x) if x else [])\n",
    "\n",
    "df.head()"
   ]
  },
  {
   "cell_type": "markdown",
   "metadata": {},
   "source": [
    "### Using practices established in memory-test.csv"
   ]
  },
  {
   "cell_type": "code",
   "execution_count": 4,
   "metadata": {},
   "outputs": [
    {
     "data": {
      "text/plain": [
       "(52664, 16)"
      ]
     },
     "execution_count": 4,
     "metadata": {},
     "output_type": "execute_result"
    }
   ],
   "source": [
    "df = df.drop_duplicates(subset=['description', 'name'])\n",
    "df = df.dropna(subset=['description'])\n",
    "# Extract labelled data\n",
    "df = df[df['topics'].apply(lambda x: len(x) > 0 if isinstance(x, list) else False)]\n",
    "df.shape"
   ]
  },
  {
   "cell_type": "code",
   "execution_count": 6,
   "metadata": {},
   "outputs": [
    {
     "data": {
      "text/plain": [
       "(9839, 3)"
      ]
     },
     "execution_count": 6,
     "metadata": {},
     "output_type": "execute_result"
    }
   ],
   "source": [
    "# Extract rows where the 'dataSource' column is 'CORDIS'\n",
    "df = df[df['dataSource'] == 'CORDIS']\n",
    "# Filter down to description, name and topics\n",
    "df = df[['description', 'name', 'topics']]\n",
    "df.shape"
   ]
  },
  {
   "cell_type": "code",
   "execution_count": 7,
   "metadata": {},
   "outputs": [
    {
     "data": {
      "text/html": [
       "<div>\n",
       "<style scoped>\n",
       "    .dataframe tbody tr th:only-of-type {\n",
       "        vertical-align: middle;\n",
       "    }\n",
       "\n",
       "    .dataframe tbody tr th {\n",
       "        vertical-align: top;\n",
       "    }\n",
       "\n",
       "    .dataframe thead th {\n",
       "        text-align: right;\n",
       "    }\n",
       "</style>\n",
       "<table border=\"1\" class=\"dataframe\">\n",
       "  <thead>\n",
       "    <tr style=\"text-align: right;\">\n",
       "      <th></th>\n",
       "      <th>description</th>\n",
       "      <th>name</th>\n",
       "      <th>topics</th>\n",
       "    </tr>\n",
       "  </thead>\n",
       "  <tbody>\n",
       "    <tr>\n",
       "      <th>1</th>\n",
       "      <td>Chromition have developed innovative and disru...</td>\n",
       "      <td>DCDP - Digital Cancer Diagnosis Platform</td>\n",
       "      <td>[oncology, pathology, personalized medicine, p...</td>\n",
       "    </tr>\n",
       "    <tr>\n",
       "      <th>4</th>\n",
       "      <td>TB is transmitted via person-to-person aerosol...</td>\n",
       "      <td>TB-EPF - Enhanced Place Finding (EPF) of TB tr...</td>\n",
       "      <td>[public health, infectious diseases, tuberculo...</td>\n",
       "    </tr>\n",
       "    <tr>\n",
       "      <th>36</th>\n",
       "      <td>\"The origin of life is not well understood, an...</td>\n",
       "      <td>Autocat - Autocatalysis: A bottom-up approach ...</td>\n",
       "      <td>[synthetic biology, catalysis, energy and fuels]</td>\n",
       "    </tr>\n",
       "    <tr>\n",
       "      <th>70</th>\n",
       "      <td>Functional encryption (FE), has been recently ...</td>\n",
       "      <td>FENTEC - Functional Encryption Technologies</td>\n",
       "      <td>[internet of things, software, data protection...</td>\n",
       "    </tr>\n",
       "    <tr>\n",
       "      <th>81</th>\n",
       "      <td>Project FLEX-RAIL has the vision to target a l...</td>\n",
       "      <td>FLEX-RAIL - Paradigm shifts for railway – Tech...</td>\n",
       "      <td>[governance, business models]</td>\n",
       "    </tr>\n",
       "  </tbody>\n",
       "</table>\n",
       "</div>"
      ],
      "text/plain": [
       "                                          description  \\\n",
       "1   Chromition have developed innovative and disru...   \n",
       "4   TB is transmitted via person-to-person aerosol...   \n",
       "36  \"The origin of life is not well understood, an...   \n",
       "70  Functional encryption (FE), has been recently ...   \n",
       "81  Project FLEX-RAIL has the vision to target a l...   \n",
       "\n",
       "                                                 name  \\\n",
       "1            DCDP - Digital Cancer Diagnosis Platform   \n",
       "4   TB-EPF - Enhanced Place Finding (EPF) of TB tr...   \n",
       "36  Autocat - Autocatalysis: A bottom-up approach ...   \n",
       "70        FENTEC - Functional Encryption Technologies   \n",
       "81  FLEX-RAIL - Paradigm shifts for railway – Tech...   \n",
       "\n",
       "                                               topics  \n",
       "1   [oncology, pathology, personalized medicine, p...  \n",
       "4   [public health, infectious diseases, tuberculo...  \n",
       "36   [synthetic biology, catalysis, energy and fuels]  \n",
       "70  [internet of things, software, data protection...  \n",
       "81                      [governance, business models]  "
      ]
     },
     "execution_count": 7,
     "metadata": {},
     "output_type": "execute_result"
    }
   ],
   "source": [
    "df.head()"
   ]
  },
  {
   "cell_type": "code",
   "execution_count": 9,
   "metadata": {},
   "outputs": [],
   "source": [
    "df.to_csv('../data/cordis-desc-name-topics.csv', index=False)"
   ]
  },
  {
   "cell_type": "code",
   "execution_count": 11,
   "metadata": {},
   "outputs": [],
   "source": [
    "tel_topic_match = [\"teleology\",\"telecommunications\",\"radio frequency\",\"radar\",\"mobile phones\",\"bluetooth\",\"WiFi\",\"data networks\",\"optical networks\",\"microwave technology\",\"radio technology\",\"mobile radio\",\"4G\",\"LiFi\",\"mobile network\",\"radio and television\",\"satellite radio\",\"telecommunications networks\",\"5G\",\"fiber-optic network\",\"cognitive radio\",\"fixed wireless network\",]\n",
    "\n",
    "df[\"isTelecoms\"] = df[\"topics\"].apply(lambda s:  np.any([x in tel_topic_match for x in s]))"
   ]
  },
  {
   "cell_type": "code",
   "execution_count": 12,
   "metadata": {},
   "outputs": [
    {
     "data": {
      "text/plain": [
       "(522, 4)"
      ]
     },
     "execution_count": 12,
     "metadata": {},
     "output_type": "execute_result"
    }
   ],
   "source": [
    "telecoms = df[df[\"isTelecoms\"]]\n",
    "telecoms.shape"
   ]
  },
  {
   "cell_type": "code",
   "execution_count": 13,
   "metadata": {},
   "outputs": [
    {
     "data": {
      "text/html": [
       "<div>\n",
       "<style scoped>\n",
       "    .dataframe tbody tr th:only-of-type {\n",
       "        vertical-align: middle;\n",
       "    }\n",
       "\n",
       "    .dataframe tbody tr th {\n",
       "        vertical-align: top;\n",
       "    }\n",
       "\n",
       "    .dataframe thead th {\n",
       "        text-align: right;\n",
       "    }\n",
       "</style>\n",
       "<table border=\"1\" class=\"dataframe\">\n",
       "  <thead>\n",
       "    <tr style=\"text-align: right;\">\n",
       "      <th></th>\n",
       "      <th>description</th>\n",
       "      <th>name</th>\n",
       "      <th>topics</th>\n",
       "      <th>isTelecoms</th>\n",
       "    </tr>\n",
       "  </thead>\n",
       "  <tbody>\n",
       "    <tr>\n",
       "      <th>258</th>\n",
       "      <td>Key objectives of METIS-II are to develop the ...</td>\n",
       "      <td>METIS-II - Mobile and wireless communications ...</td>\n",
       "      <td>[5G, topology, revolutions, radio technology]</td>\n",
       "      <td>True</td>\n",
       "    </tr>\n",
       "    <tr>\n",
       "      <th>463</th>\n",
       "      <td>There is currently a high desire by manufactur...</td>\n",
       "      <td>interACT - Designing cooperative interaction o...</td>\n",
       "      <td>[software, radar, sensors, mobile phones, math...</td>\n",
       "      <td>True</td>\n",
       "    </tr>\n",
       "    <tr>\n",
       "      <th>562</th>\n",
       "      <td>Delivering on the 5G promise of increased data...</td>\n",
       "      <td>5GCITY - 5GCITY</td>\n",
       "      <td>[smart cities, 5G, software]</td>\n",
       "      <td>True</td>\n",
       "    </tr>\n",
       "    <tr>\n",
       "      <th>1228</th>\n",
       "      <td>From beacon fires in early civilizations to em...</td>\n",
       "      <td>Light UP - Visible Light Ultrafast Photodetect...</td>\n",
       "      <td>[internet of things, optical sensors, semicond...</td>\n",
       "      <td>True</td>\n",
       "    </tr>\n",
       "    <tr>\n",
       "      <th>1389</th>\n",
       "      <td>5G-DRIVE will trial and validate the interoper...</td>\n",
       "      <td>5G-DRIVE - 5G HarmoniseD Research and TrIals f...</td>\n",
       "      <td>[5G, business models]</td>\n",
       "      <td>True</td>\n",
       "    </tr>\n",
       "  </tbody>\n",
       "</table>\n",
       "</div>"
      ],
      "text/plain": [
       "                                            description  \\\n",
       "258   Key objectives of METIS-II are to develop the ...   \n",
       "463   There is currently a high desire by manufactur...   \n",
       "562   Delivering on the 5G promise of increased data...   \n",
       "1228  From beacon fires in early civilizations to em...   \n",
       "1389  5G-DRIVE will trial and validate the interoper...   \n",
       "\n",
       "                                                   name  \\\n",
       "258   METIS-II - Mobile and wireless communications ...   \n",
       "463   interACT - Designing cooperative interaction o...   \n",
       "562                                     5GCITY - 5GCITY   \n",
       "1228  Light UP - Visible Light Ultrafast Photodetect...   \n",
       "1389  5G-DRIVE - 5G HarmoniseD Research and TrIals f...   \n",
       "\n",
       "                                                 topics  isTelecoms  \n",
       "258       [5G, topology, revolutions, radio technology]        True  \n",
       "463   [software, radar, sensors, mobile phones, math...        True  \n",
       "562                        [smart cities, 5G, software]        True  \n",
       "1228  [internet of things, optical sensors, semicond...        True  \n",
       "1389                              [5G, business models]        True  "
      ]
     },
     "execution_count": 13,
     "metadata": {},
     "output_type": "execute_result"
    }
   ],
   "source": [
    "telecoms.head()"
   ]
  },
  {
   "cell_type": "code",
   "execution_count": 14,
   "metadata": {},
   "outputs": [],
   "source": [
    "telecoms.to_csv('../data/cordis-telecoms.csv', index=False)"
   ]
  },
  {
   "cell_type": "code",
   "execution_count": null,
   "metadata": {},
   "outputs": [],
   "source": []
  }
 ],
 "metadata": {
  "kernelspec": {
   "display_name": "text-labels",
   "language": "python",
   "name": "python3"
  },
  "language_info": {
   "codemirror_mode": {
    "name": "ipython",
    "version": 3
   },
   "file_extension": ".py",
   "mimetype": "text/x-python",
   "name": "python",
   "nbconvert_exporter": "python",
   "pygments_lexer": "ipython3",
   "version": "3.8.15"
  }
 },
 "nbformat": 4,
 "nbformat_minor": 2
}
