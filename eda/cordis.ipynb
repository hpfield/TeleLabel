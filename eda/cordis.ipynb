{
 "cells": [
  {
   "cell_type": "markdown",
   "metadata": {},
   "source": [
    "# Extract Cordis rows from df"
   ]
  },
  {
   "cell_type": "code",
   "execution_count": null,
   "metadata": {},
   "outputs": [],
   "source": []
  },
  {
   "cell_type": "code",
   "execution_count": 1,
   "metadata": {},
   "outputs": [],
   "source": [
    "# Import libraries\n",
    "import pandas as pd\n",
    "import ast\n",
    "import numpy as np\n"
   ]
  },
  {
   "cell_type": "code",
   "execution_count": 2,
   "metadata": {},
   "outputs": [
    {
     "data": {
      "text/html": [
       "<div>\n",
       "<style scoped>\n",
       "    .dataframe tbody tr th:only-of-type {\n",
       "        vertical-align: middle;\n",
       "    }\n",
       "\n",
       "    .dataframe tbody tr th {\n",
       "        vertical-align: top;\n",
       "    }\n",
       "\n",
       "    .dataframe thead th {\n",
       "        text-align: right;\n",
       "    }\n",
       "</style>\n",
       "<table border=\"1\" class=\"dataframe\">\n",
       "  <thead>\n",
       "    <tr style=\"text-align: right;\">\n",
       "      <th></th>\n",
       "      <th>endDate</th>\n",
       "      <th>fundAmount</th>\n",
       "      <th>description</th>\n",
       "      <th>funder</th>\n",
       "      <th>url</th>\n",
       "      <th>status</th>\n",
       "      <th>name</th>\n",
       "      <th>originalID</th>\n",
       "      <th>fundAmountUK</th>\n",
       "      <th>dataSource</th>\n",
       "      <th>participants</th>\n",
       "      <th>topics</th>\n",
       "      <th>fundCurrency</th>\n",
       "      <th>grantCategory</th>\n",
       "      <th>startDate</th>\n",
       "      <th>fundScheme</th>\n",
       "    </tr>\n",
       "  </thead>\n",
       "  <tbody>\n",
       "    <tr>\n",
       "      <th>0</th>\n",
       "      <td>2024-03-27 00:00:00+00:00</td>\n",
       "      <td>0</td>\n",
       "      <td>The search to understand the nature of the elu...</td>\n",
       "      <td>STFC</td>\n",
       "      <td>https://gtr.ukri.org/project/00014AFD-3C1F-410...</td>\n",
       "      <td>Active</td>\n",
       "      <td>Exploring the dark universe with quantum techn...</td>\n",
       "      <td>NaN</td>\n",
       "      <td>NaN</td>\n",
       "      <td>GTR</td>\n",
       "      <td>NaN</td>\n",
       "      <td>[]</td>\n",
       "      <td>GBP</td>\n",
       "      <td>Studentship</td>\n",
       "      <td>2020-09-28 00:00:00+00:00</td>\n",
       "      <td>NaN</td>\n",
       "    </tr>\n",
       "    <tr>\n",
       "      <th>1</th>\n",
       "      <td>2019-05-31 00:00:00+00:00</td>\n",
       "      <td>71429</td>\n",
       "      <td>Chromition have developed innovative and disru...</td>\n",
       "      <td>HORIZON 2020</td>\n",
       "      <td>https://cordis.europa.eu/project/id/837088</td>\n",
       "      <td>CLOSED</td>\n",
       "      <td>DCDP - Digital Cancer Diagnosis Platform</td>\n",
       "      <td>837088.0</td>\n",
       "      <td>71429.0</td>\n",
       "      <td>CORDIS</td>\n",
       "      <td>NaN</td>\n",
       "      <td>[oncology, pathology, personalized medicine, p...</td>\n",
       "      <td>EUR</td>\n",
       "      <td>NaN</td>\n",
       "      <td>2018-12-01 00:00:00+00:00</td>\n",
       "      <td>NaN</td>\n",
       "    </tr>\n",
       "    <tr>\n",
       "      <th>2</th>\n",
       "      <td>2027-09-30 00:00:00+00:00</td>\n",
       "      <td>0</td>\n",
       "      <td>NaN</td>\n",
       "      <td>BBSRC</td>\n",
       "      <td>https://gtr.ukri.org/project/00022364-C7A7-401...</td>\n",
       "      <td>Active</td>\n",
       "      <td>Exploring the role of vitamin transport in ins...</td>\n",
       "      <td>NaN</td>\n",
       "      <td>NaN</td>\n",
       "      <td>GTR</td>\n",
       "      <td>NaN</td>\n",
       "      <td>[]</td>\n",
       "      <td>GBP</td>\n",
       "      <td>Studentship</td>\n",
       "      <td>2023-10-01 00:00:00+00:00</td>\n",
       "      <td>NaN</td>\n",
       "    </tr>\n",
       "    <tr>\n",
       "      <th>3</th>\n",
       "      <td>2014-09-30 00:00:00+00:00</td>\n",
       "      <td>325895</td>\n",
       "      <td>Our brains have to deal with ambiguity and unc...</td>\n",
       "      <td>BBSRC</td>\n",
       "      <td>https://gtr.ukri.org/project/0002BEF3-B070-448...</td>\n",
       "      <td>Closed</td>\n",
       "      <td>Bayesian issues in ant navigation</td>\n",
       "      <td>NaN</td>\n",
       "      <td>NaN</td>\n",
       "      <td>GTR</td>\n",
       "      <td>NaN</td>\n",
       "      <td>[Behavioural Ecology, Theoretical biology, Ani...</td>\n",
       "      <td>GBP</td>\n",
       "      <td>Research Grant</td>\n",
       "      <td>2011-08-01 00:00:00+00:00</td>\n",
       "      <td>NaN</td>\n",
       "    </tr>\n",
       "    <tr>\n",
       "      <th>4</th>\n",
       "      <td>2019-02-28 00:00:00+00:00</td>\n",
       "      <td>149783</td>\n",
       "      <td>TB is transmitted via person-to-person aerosol...</td>\n",
       "      <td>HORIZON 2020</td>\n",
       "      <td>https://cordis.europa.eu/project/id/727695</td>\n",
       "      <td>CLOSED</td>\n",
       "      <td>TB-EPF - Enhanced Place Finding (EPF) of TB tr...</td>\n",
       "      <td>727695.0</td>\n",
       "      <td>31662.0</td>\n",
       "      <td>CORDIS</td>\n",
       "      <td>NaN</td>\n",
       "      <td>[public health, infectious diseases, tuberculo...</td>\n",
       "      <td>EUR</td>\n",
       "      <td>NaN</td>\n",
       "      <td>2017-09-01 00:00:00+00:00</td>\n",
       "      <td>NaN</td>\n",
       "    </tr>\n",
       "  </tbody>\n",
       "</table>\n",
       "</div>"
      ],
      "text/plain": [
       "                     endDate  fundAmount  \\\n",
       "0  2024-03-27 00:00:00+00:00           0   \n",
       "1  2019-05-31 00:00:00+00:00       71429   \n",
       "2  2027-09-30 00:00:00+00:00           0   \n",
       "3  2014-09-30 00:00:00+00:00      325895   \n",
       "4  2019-02-28 00:00:00+00:00      149783   \n",
       "\n",
       "                                         description        funder  \\\n",
       "0  The search to understand the nature of the elu...          STFC   \n",
       "1  Chromition have developed innovative and disru...  HORIZON 2020   \n",
       "2                                                NaN         BBSRC   \n",
       "3  Our brains have to deal with ambiguity and unc...         BBSRC   \n",
       "4  TB is transmitted via person-to-person aerosol...  HORIZON 2020   \n",
       "\n",
       "                                                 url  status  \\\n",
       "0  https://gtr.ukri.org/project/00014AFD-3C1F-410...  Active   \n",
       "1         https://cordis.europa.eu/project/id/837088  CLOSED   \n",
       "2  https://gtr.ukri.org/project/00022364-C7A7-401...  Active   \n",
       "3  https://gtr.ukri.org/project/0002BEF3-B070-448...  Closed   \n",
       "4         https://cordis.europa.eu/project/id/727695  CLOSED   \n",
       "\n",
       "                                                name  originalID  \\\n",
       "0  Exploring the dark universe with quantum techn...         NaN   \n",
       "1           DCDP - Digital Cancer Diagnosis Platform    837088.0   \n",
       "2  Exploring the role of vitamin transport in ins...         NaN   \n",
       "3                  Bayesian issues in ant navigation         NaN   \n",
       "4  TB-EPF - Enhanced Place Finding (EPF) of TB tr...    727695.0   \n",
       "\n",
       "   fundAmountUK dataSource participants  \\\n",
       "0           NaN        GTR          NaN   \n",
       "1       71429.0     CORDIS          NaN   \n",
       "2           NaN        GTR          NaN   \n",
       "3           NaN        GTR          NaN   \n",
       "4       31662.0     CORDIS          NaN   \n",
       "\n",
       "                                              topics fundCurrency  \\\n",
       "0                                                 []          GBP   \n",
       "1  [oncology, pathology, personalized medicine, p...          EUR   \n",
       "2                                                 []          GBP   \n",
       "3  [Behavioural Ecology, Theoretical biology, Ani...          GBP   \n",
       "4  [public health, infectious diseases, tuberculo...          EUR   \n",
       "\n",
       "    grantCategory                  startDate fundScheme  \n",
       "0     Studentship  2020-09-28 00:00:00+00:00        NaN  \n",
       "1             NaN  2018-12-01 00:00:00+00:00        NaN  \n",
       "2     Studentship  2023-10-01 00:00:00+00:00        NaN  \n",
       "3  Research Grant  2011-08-01 00:00:00+00:00        NaN  \n",
       "4             NaN  2017-09-01 00:00:00+00:00        NaN  "
      ]
     },
     "execution_count": 2,
     "metadata": {},
     "output_type": "execute_result"
    }
   ],
   "source": [
    "\n",
    "# Cordis data will be in the labelled data\n",
    "file_path = '../data/data.csv'\n",
    "\n",
    "df = pd.read_csv(file_path)\n",
    "\n",
    "# Formatting strings back into arrays\n",
    "df['topics'] = df['topics'].apply(lambda x: ast.literal_eval(x) if x else [])\n",
    "\n",
    "df.head()"
   ]
  },
  {
   "cell_type": "markdown",
   "metadata": {},
   "source": [
    "### Using practices established in memory-test.csv"
   ]
  },
  {
   "cell_type": "code",
   "execution_count": 3,
   "metadata": {},
   "outputs": [
    {
     "data": {
      "text/plain": [
       "(52664, 16)"
      ]
     },
     "execution_count": 3,
     "metadata": {},
     "output_type": "execute_result"
    }
   ],
   "source": [
    "df = df.drop_duplicates(subset=['description', 'name'])\n",
    "df = df.dropna(subset=['description'])\n",
    "# Extract labelled data\n",
    "df = df[df['topics'].apply(lambda x: len(x) > 0 if isinstance(x, list) else False)]\n",
    "df.shape"
   ]
  },
  {
   "cell_type": "code",
   "execution_count": 4,
   "metadata": {},
   "outputs": [
    {
     "data": {
      "text/plain": [
       "(9839, 3)"
      ]
     },
     "execution_count": 4,
     "metadata": {},
     "output_type": "execute_result"
    }
   ],
   "source": [
    "# Extract rows where the 'dataSource' column is 'CORDIS'\n",
    "df = df[df['dataSource'] == 'CORDIS']\n",
    "# Filter down to description, name and topics\n",
    "df = df[['description', 'name', 'topics']]\n",
    "df.shape"
   ]
  },
  {
   "cell_type": "code",
   "execution_count": 5,
   "metadata": {},
   "outputs": [
    {
     "data": {
      "text/html": [
       "<div>\n",
       "<style scoped>\n",
       "    .dataframe tbody tr th:only-of-type {\n",
       "        vertical-align: middle;\n",
       "    }\n",
       "\n",
       "    .dataframe tbody tr th {\n",
       "        vertical-align: top;\n",
       "    }\n",
       "\n",
       "    .dataframe thead th {\n",
       "        text-align: right;\n",
       "    }\n",
       "</style>\n",
       "<table border=\"1\" class=\"dataframe\">\n",
       "  <thead>\n",
       "    <tr style=\"text-align: right;\">\n",
       "      <th></th>\n",
       "      <th>description</th>\n",
       "      <th>name</th>\n",
       "      <th>topics</th>\n",
       "    </tr>\n",
       "  </thead>\n",
       "  <tbody>\n",
       "    <tr>\n",
       "      <th>1</th>\n",
       "      <td>Chromition have developed innovative and disru...</td>\n",
       "      <td>DCDP - Digital Cancer Diagnosis Platform</td>\n",
       "      <td>[oncology, pathology, personalized medicine, p...</td>\n",
       "    </tr>\n",
       "    <tr>\n",
       "      <th>4</th>\n",
       "      <td>TB is transmitted via person-to-person aerosol...</td>\n",
       "      <td>TB-EPF - Enhanced Place Finding (EPF) of TB tr...</td>\n",
       "      <td>[public health, infectious diseases, tuberculo...</td>\n",
       "    </tr>\n",
       "    <tr>\n",
       "      <th>36</th>\n",
       "      <td>\"The origin of life is not well understood, an...</td>\n",
       "      <td>Autocat - Autocatalysis: A bottom-up approach ...</td>\n",
       "      <td>[synthetic biology, catalysis, energy and fuels]</td>\n",
       "    </tr>\n",
       "    <tr>\n",
       "      <th>70</th>\n",
       "      <td>Functional encryption (FE), has been recently ...</td>\n",
       "      <td>FENTEC - Functional Encryption Technologies</td>\n",
       "      <td>[internet of things, software, data protection...</td>\n",
       "    </tr>\n",
       "    <tr>\n",
       "      <th>81</th>\n",
       "      <td>Project FLEX-RAIL has the vision to target a l...</td>\n",
       "      <td>FLEX-RAIL - Paradigm shifts for railway – Tech...</td>\n",
       "      <td>[governance, business models]</td>\n",
       "    </tr>\n",
       "  </tbody>\n",
       "</table>\n",
       "</div>"
      ],
      "text/plain": [
       "                                          description  \\\n",
       "1   Chromition have developed innovative and disru...   \n",
       "4   TB is transmitted via person-to-person aerosol...   \n",
       "36  \"The origin of life is not well understood, an...   \n",
       "70  Functional encryption (FE), has been recently ...   \n",
       "81  Project FLEX-RAIL has the vision to target a l...   \n",
       "\n",
       "                                                 name  \\\n",
       "1            DCDP - Digital Cancer Diagnosis Platform   \n",
       "4   TB-EPF - Enhanced Place Finding (EPF) of TB tr...   \n",
       "36  Autocat - Autocatalysis: A bottom-up approach ...   \n",
       "70        FENTEC - Functional Encryption Technologies   \n",
       "81  FLEX-RAIL - Paradigm shifts for railway – Tech...   \n",
       "\n",
       "                                               topics  \n",
       "1   [oncology, pathology, personalized medicine, p...  \n",
       "4   [public health, infectious diseases, tuberculo...  \n",
       "36   [synthetic biology, catalysis, energy and fuels]  \n",
       "70  [internet of things, software, data protection...  \n",
       "81                      [governance, business models]  "
      ]
     },
     "execution_count": 5,
     "metadata": {},
     "output_type": "execute_result"
    }
   ],
   "source": [
    "df.head()"
   ]
  },
  {
   "cell_type": "code",
   "execution_count": 6,
   "metadata": {},
   "outputs": [],
   "source": [
    "df.to_csv('../data/cordis-desc-name-topics.csv', index=False)"
   ]
  },
  {
   "cell_type": "code",
   "execution_count": 7,
   "metadata": {},
   "outputs": [],
   "source": [
    "tel_topic_match = [\"teleology\",\"telecommunications\",\"radio frequency\",\"radar\",\"mobile phones\",\"bluetooth\",\"WiFi\",\"data networks\",\"optical networks\",\"microwave technology\",\"radio technology\",\"mobile radio\",\"4G\",\"LiFi\",\"mobile network\",\"radio and television\",\"satellite radio\",\"telecommunications networks\",\"5G\",\"fiber-optic network\",\"cognitive radio\",\"fixed wireless network\",]\n",
    "\n",
    "df[\"isTelecoms\"] = df[\"topics\"].apply(lambda s:  np.any([x in tel_topic_match for x in s]))"
   ]
  },
  {
   "cell_type": "code",
   "execution_count": 8,
   "metadata": {},
   "outputs": [
    {
     "data": {
      "text/plain": [
       "(522, 4)"
      ]
     },
     "execution_count": 8,
     "metadata": {},
     "output_type": "execute_result"
    }
   ],
   "source": [
    "telecoms = df[df[\"isTelecoms\"]]\n",
    "telecoms.shape"
   ]
  },
  {
   "cell_type": "code",
   "execution_count": 9,
   "metadata": {},
   "outputs": [
    {
     "name": "stderr",
     "output_type": "stream",
     "text": [
      "/tmp/ipykernel_167093/3807356107.py:2: SettingWithCopyWarning: \n",
      "A value is trying to be set on a copy of a slice from a DataFrame.\n",
      "Try using .loc[row_indexer,col_indexer] = value instead\n",
      "\n",
      "See the caveats in the documentation: https://pandas.pydata.org/pandas-docs/stable/user_guide/indexing.html#returning-a-view-versus-a-copy\n",
      "  telecoms[\"topics\"] = telecoms[\"topics\"].apply(lambda x: [y for y in x if y in tel_topic_match])\n"
     ]
    }
   ],
   "source": [
    "# Remove all topics that are not in tel_topic_match\n",
    "telecoms[\"topics\"] = telecoms[\"topics\"].apply(lambda x: [y for y in x if y in tel_topic_match])"
   ]
  },
  {
   "cell_type": "code",
   "execution_count": 10,
   "metadata": {},
   "outputs": [
    {
     "data": {
      "text/html": [
       "<div>\n",
       "<style scoped>\n",
       "    .dataframe tbody tr th:only-of-type {\n",
       "        vertical-align: middle;\n",
       "    }\n",
       "\n",
       "    .dataframe tbody tr th {\n",
       "        vertical-align: top;\n",
       "    }\n",
       "\n",
       "    .dataframe thead th {\n",
       "        text-align: right;\n",
       "    }\n",
       "</style>\n",
       "<table border=\"1\" class=\"dataframe\">\n",
       "  <thead>\n",
       "    <tr style=\"text-align: right;\">\n",
       "      <th></th>\n",
       "      <th>description</th>\n",
       "      <th>name</th>\n",
       "      <th>topics</th>\n",
       "      <th>isTelecoms</th>\n",
       "    </tr>\n",
       "  </thead>\n",
       "  <tbody>\n",
       "    <tr>\n",
       "      <th>258</th>\n",
       "      <td>Key objectives of METIS-II are to develop the ...</td>\n",
       "      <td>METIS-II - Mobile and wireless communications ...</td>\n",
       "      <td>[5G, radio technology]</td>\n",
       "      <td>True</td>\n",
       "    </tr>\n",
       "    <tr>\n",
       "      <th>463</th>\n",
       "      <td>There is currently a high desire by manufactur...</td>\n",
       "      <td>interACT - Designing cooperative interaction o...</td>\n",
       "      <td>[radar, mobile phones]</td>\n",
       "      <td>True</td>\n",
       "    </tr>\n",
       "    <tr>\n",
       "      <th>562</th>\n",
       "      <td>Delivering on the 5G promise of increased data...</td>\n",
       "      <td>5GCITY - 5GCITY</td>\n",
       "      <td>[5G]</td>\n",
       "      <td>True</td>\n",
       "    </tr>\n",
       "    <tr>\n",
       "      <th>1228</th>\n",
       "      <td>From beacon fires in early civilizations to em...</td>\n",
       "      <td>Light UP - Visible Light Ultrafast Photodetect...</td>\n",
       "      <td>[radio technology]</td>\n",
       "      <td>True</td>\n",
       "    </tr>\n",
       "    <tr>\n",
       "      <th>1389</th>\n",
       "      <td>5G-DRIVE will trial and validate the interoper...</td>\n",
       "      <td>5G-DRIVE - 5G HarmoniseD Research and TrIals f...</td>\n",
       "      <td>[5G]</td>\n",
       "      <td>True</td>\n",
       "    </tr>\n",
       "  </tbody>\n",
       "</table>\n",
       "</div>"
      ],
      "text/plain": [
       "                                            description  \\\n",
       "258   Key objectives of METIS-II are to develop the ...   \n",
       "463   There is currently a high desire by manufactur...   \n",
       "562   Delivering on the 5G promise of increased data...   \n",
       "1228  From beacon fires in early civilizations to em...   \n",
       "1389  5G-DRIVE will trial and validate the interoper...   \n",
       "\n",
       "                                                   name  \\\n",
       "258   METIS-II - Mobile and wireless communications ...   \n",
       "463   interACT - Designing cooperative interaction o...   \n",
       "562                                     5GCITY - 5GCITY   \n",
       "1228  Light UP - Visible Light Ultrafast Photodetect...   \n",
       "1389  5G-DRIVE - 5G HarmoniseD Research and TrIals f...   \n",
       "\n",
       "                      topics  isTelecoms  \n",
       "258   [5G, radio technology]        True  \n",
       "463   [radar, mobile phones]        True  \n",
       "562                     [5G]        True  \n",
       "1228      [radio technology]        True  \n",
       "1389                    [5G]        True  "
      ]
     },
     "execution_count": 10,
     "metadata": {},
     "output_type": "execute_result"
    }
   ],
   "source": [
    "telecoms.head()"
   ]
  },
  {
   "cell_type": "code",
   "execution_count": 11,
   "metadata": {},
   "outputs": [],
   "source": [
    "telecoms.to_csv('../data/cordis-telecoms.csv', index=False)"
   ]
  },
  {
   "cell_type": "code",
   "execution_count": 12,
   "metadata": {},
   "outputs": [],
   "source": [
    "not_telecoms = df[~df[\"isTelecoms\"]]"
   ]
  },
  {
   "cell_type": "code",
   "execution_count": 13,
   "metadata": {},
   "outputs": [
    {
     "data": {
      "text/plain": [
       "(9317, 4)"
      ]
     },
     "execution_count": 13,
     "metadata": {},
     "output_type": "execute_result"
    }
   ],
   "source": [
    "not_telecoms.shape"
   ]
  },
  {
   "cell_type": "code",
   "execution_count": 14,
   "metadata": {},
   "outputs": [
    {
     "data": {
      "text/html": [
       "<div>\n",
       "<style scoped>\n",
       "    .dataframe tbody tr th:only-of-type {\n",
       "        vertical-align: middle;\n",
       "    }\n",
       "\n",
       "    .dataframe tbody tr th {\n",
       "        vertical-align: top;\n",
       "    }\n",
       "\n",
       "    .dataframe thead th {\n",
       "        text-align: right;\n",
       "    }\n",
       "</style>\n",
       "<table border=\"1\" class=\"dataframe\">\n",
       "  <thead>\n",
       "    <tr style=\"text-align: right;\">\n",
       "      <th></th>\n",
       "      <th>description</th>\n",
       "      <th>name</th>\n",
       "      <th>topics</th>\n",
       "      <th>isTelecoms</th>\n",
       "    </tr>\n",
       "  </thead>\n",
       "  <tbody>\n",
       "    <tr>\n",
       "      <th>26533</th>\n",
       "      <td>Radiotherapy alone or in multimodality approac...</td>\n",
       "      <td>THERADNET - International NETwork for training...</td>\n",
       "      <td>[immunology, oncology, personalized medicine]</td>\n",
       "      <td>False</td>\n",
       "    </tr>\n",
       "    <tr>\n",
       "      <th>129086</th>\n",
       "      <td>Age-related macular degeneration (AMD) is the ...</td>\n",
       "      <td>EYE-RISK - Exploring the combined role of gene...</td>\n",
       "      <td>[epidemiology, proteins, ophthalmology, stem c...</td>\n",
       "      <td>False</td>\n",
       "    </tr>\n",
       "    <tr>\n",
       "      <th>120557</th>\n",
       "      <td>Rapidly rising CO2 levels threaten aquatic org...</td>\n",
       "      <td>DOGMATiCC - Digestion, OsmoreGulation and Meta...</td>\n",
       "      <td>[fisheries, nutrition, climatic changes, homeo...</td>\n",
       "      <td>False</td>\n",
       "    </tr>\n",
       "    <tr>\n",
       "      <th>17245</th>\n",
       "      <td>This project aims to advance our understanding...</td>\n",
       "      <td>UnRi - Understanding the discourse-semantic sh...</td>\n",
       "      <td>[journalism]</td>\n",
       "      <td>False</td>\n",
       "    </tr>\n",
       "    <tr>\n",
       "      <th>47958</th>\n",
       "      <td>In today’s ageing European population, hearing...</td>\n",
       "      <td>HEAR-ECO - HEAR-ECO Innovative Hearing Aid Res...</td>\n",
       "      <td>[public health, social psychology]</td>\n",
       "      <td>False</td>\n",
       "    </tr>\n",
       "  </tbody>\n",
       "</table>\n",
       "</div>"
      ],
      "text/plain": [
       "                                              description  \\\n",
       "26533   Radiotherapy alone or in multimodality approac...   \n",
       "129086  Age-related macular degeneration (AMD) is the ...   \n",
       "120557  Rapidly rising CO2 levels threaten aquatic org...   \n",
       "17245   This project aims to advance our understanding...   \n",
       "47958   In today’s ageing European population, hearing...   \n",
       "\n",
       "                                                     name  \\\n",
       "26533   THERADNET - International NETwork for training...   \n",
       "129086  EYE-RISK - Exploring the combined role of gene...   \n",
       "120557  DOGMATiCC - Digestion, OsmoreGulation and Meta...   \n",
       "17245   UnRi - Understanding the discourse-semantic sh...   \n",
       "47958   HEAR-ECO - HEAR-ECO Innovative Hearing Aid Res...   \n",
       "\n",
       "                                                   topics  isTelecoms  \n",
       "26533       [immunology, oncology, personalized medicine]       False  \n",
       "129086  [epidemiology, proteins, ophthalmology, stem c...       False  \n",
       "120557  [fisheries, nutrition, climatic changes, homeo...       False  \n",
       "17245                                        [journalism]       False  \n",
       "47958                  [public health, social psychology]       False  "
      ]
     },
     "execution_count": 14,
     "metadata": {},
     "output_type": "execute_result"
    }
   ],
   "source": [
    "# Select 522 random samples from not_telecoms\n",
    "not_telecoms = not_telecoms.sample(n=522, random_state=42)\n",
    "not_telecoms.head()"
   ]
  },
  {
   "cell_type": "code",
   "execution_count": 15,
   "metadata": {},
   "outputs": [
    {
     "data": {
      "text/plain": [
       "(1044, 3)"
      ]
     },
     "execution_count": 15,
     "metadata": {},
     "output_type": "execute_result"
    }
   ],
   "source": [
    "# combine with telecoms\n",
    "combined = pd.concat([telecoms, not_telecoms])\n",
    "# remove topics column\n",
    "combined = combined.drop(columns=[\"topics\"])\n",
    "combined.shape"
   ]
  },
  {
   "cell_type": "code",
   "execution_count": 16,
   "metadata": {},
   "outputs": [],
   "source": [
    "# save combined to csv\n",
    "combined.to_csv('../data/cordis-binary-telecoms.csv', index=False)"
   ]
  },
  {
   "cell_type": "code",
   "execution_count": null,
   "metadata": {},
   "outputs": [],
   "source": []
  }
 ],
 "metadata": {
  "kernelspec": {
   "display_name": "text-labels",
   "language": "python",
   "name": "python3"
  },
  "language_info": {
   "codemirror_mode": {
    "name": "ipython",
    "version": 3
   },
   "file_extension": ".py",
   "mimetype": "text/x-python",
   "name": "python",
   "nbconvert_exporter": "python",
   "pygments_lexer": "ipython3",
   "version": "3.8.15"
  }
 },
 "nbformat": 4,
 "nbformat_minor": 2
}
