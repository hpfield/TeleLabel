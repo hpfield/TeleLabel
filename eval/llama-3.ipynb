{
 "cells": [
  {
   "cell_type": "code",
   "execution_count": 1,
   "metadata": {},
   "outputs": [],
   "source": [
    "import pandas as pd"
   ]
  },
  {
   "cell_type": "code",
   "execution_count": 2,
   "metadata": {},
   "outputs": [
    {
     "data": {
      "text/html": [
       "<div>\n",
       "<style scoped>\n",
       "    .dataframe tbody tr th:only-of-type {\n",
       "        vertical-align: middle;\n",
       "    }\n",
       "\n",
       "    .dataframe tbody tr th {\n",
       "        vertical-align: top;\n",
       "    }\n",
       "\n",
       "    .dataframe thead th {\n",
       "        text-align: right;\n",
       "    }\n",
       "</style>\n",
       "<table border=\"1\" class=\"dataframe\">\n",
       "  <thead>\n",
       "    <tr style=\"text-align: right;\">\n",
       "      <th></th>\n",
       "      <th>Unnamed: 0</th>\n",
       "      <th>description</th>\n",
       "      <th>name</th>\n",
       "      <th>topics</th>\n",
       "    </tr>\n",
       "  </thead>\n",
       "  <tbody>\n",
       "    <tr>\n",
       "      <th>0</th>\n",
       "      <td>0</td>\n",
       "      <td>The search to understand the nature of the elu...</td>\n",
       "      <td>Exploring the dark universe with quantum techn...</td>\n",
       "      <td>['Dark Matter', 'Particle Physics', 'Experimen...</td>\n",
       "    </tr>\n",
       "    <tr>\n",
       "      <th>1</th>\n",
       "      <td>2</td>\n",
       "      <td>NaN</td>\n",
       "      <td>Exploring the role of vitamin transport in ins...</td>\n",
       "      <td>['No topics found']</td>\n",
       "    </tr>\n",
       "    <tr>\n",
       "      <th>2</th>\n",
       "      <td>5</td>\n",
       "      <td>Project Summary\\nBackground: Atlas seeks to de...</td>\n",
       "      <td>Engineering enzymes to enhance diagnostic devi...</td>\n",
       "      <td>['Biotechnology', 'Diagnostic Systems', 'Enzym...</td>\n",
       "    </tr>\n",
       "    <tr>\n",
       "      <th>3</th>\n",
       "      <td>6</td>\n",
       "      <td>HIV is a chronic disease that can be well cont...</td>\n",
       "      <td>HIV-1 Reservoir in Gut-Associated Lymphoid Tis...</td>\n",
       "      <td>['HIV', 'Antiretroviral therapy (ART)', 'Viral...</td>\n",
       "    </tr>\n",
       "    <tr>\n",
       "      <th>4</th>\n",
       "      <td>8</td>\n",
       "      <td>The concept of intelligent autonomous software...</td>\n",
       "      <td>Agent-based controllers for electric vehicles ...</td>\n",
       "      <td>['Artificial Intelligence', 'Autonomous System...</td>\n",
       "    </tr>\n",
       "  </tbody>\n",
       "</table>\n",
       "</div>"
      ],
      "text/plain": [
       "   Unnamed: 0                                        description  \\\n",
       "0           0  The search to understand the nature of the elu...   \n",
       "1           2                                                NaN   \n",
       "2           5  Project Summary\\nBackground: Atlas seeks to de...   \n",
       "3           6  HIV is a chronic disease that can be well cont...   \n",
       "4           8  The concept of intelligent autonomous software...   \n",
       "\n",
       "                                                name  \\\n",
       "0  Exploring the dark universe with quantum techn...   \n",
       "1  Exploring the role of vitamin transport in ins...   \n",
       "2  Engineering enzymes to enhance diagnostic devi...   \n",
       "3  HIV-1 Reservoir in Gut-Associated Lymphoid Tis...   \n",
       "4  Agent-based controllers for electric vehicles ...   \n",
       "\n",
       "                                              topics  \n",
       "0  ['Dark Matter', 'Particle Physics', 'Experimen...  \n",
       "1                                ['No topics found']  \n",
       "2  ['Biotechnology', 'Diagnostic Systems', 'Enzym...  \n",
       "3  ['HIV', 'Antiretroviral therapy (ART)', 'Viral...  \n",
       "4  ['Artificial Intelligence', 'Autonomous System...  "
      ]
     },
     "execution_count": 2,
     "metadata": {},
     "output_type": "execute_result"
    }
   ],
   "source": [
    "df = pd.read_csv('/home/rz20505/Documents/ask-jgi/data/labelled/labelled-data-10.csv')\n",
    "df.head()"
   ]
  },
  {
   "cell_type": "code",
   "execution_count": null,
   "metadata": {},
   "outputs": [],
   "source": []
  }
 ],
 "metadata": {
  "kernelspec": {
   "display_name": "text-labels",
   "language": "python",
   "name": "python3"
  },
  "language_info": {
   "codemirror_mode": {
    "name": "ipython",
    "version": 3
   },
   "file_extension": ".py",
   "mimetype": "text/x-python",
   "name": "python",
   "nbconvert_exporter": "python",
   "pygments_lexer": "ipython3",
   "version": "3.8.15"
  }
 },
 "nbformat": 4,
 "nbformat_minor": 2
}
