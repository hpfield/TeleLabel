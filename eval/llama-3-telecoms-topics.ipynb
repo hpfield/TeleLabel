{
 "cells": [
  {
   "cell_type": "code",
   "execution_count": 13,
   "metadata": {},
   "outputs": [],
   "source": [
    "import pandas as pd\n",
    "import ast"
   ]
  },
  {
   "cell_type": "code",
   "execution_count": 14,
   "metadata": {},
   "outputs": [
    {
     "data": {
      "text/html": [
       "<div>\n",
       "<style scoped>\n",
       "    .dataframe tbody tr th:only-of-type {\n",
       "        vertical-align: middle;\n",
       "    }\n",
       "\n",
       "    .dataframe tbody tr th {\n",
       "        vertical-align: top;\n",
       "    }\n",
       "\n",
       "    .dataframe thead th {\n",
       "        text-align: right;\n",
       "    }\n",
       "</style>\n",
       "<table border=\"1\" class=\"dataframe\">\n",
       "  <thead>\n",
       "    <tr style=\"text-align: right;\">\n",
       "      <th></th>\n",
       "      <th>description</th>\n",
       "      <th>name</th>\n",
       "      <th>gt</th>\n",
       "      <th>topics</th>\n",
       "    </tr>\n",
       "  </thead>\n",
       "  <tbody>\n",
       "    <tr>\n",
       "      <th>0</th>\n",
       "      <td>Key objectives of METIS-II are to develop the ...</td>\n",
       "      <td>METIS-II - Mobile and wireless communications ...</td>\n",
       "      <td>['5G', 'topology', 'revolutions', 'radio techn...</td>\n",
       "      <td>['5G', 'Radio Access Network', 'Wireless Commu...</td>\n",
       "    </tr>\n",
       "    <tr>\n",
       "      <th>1</th>\n",
       "      <td>There is currently a high desire by manufactur...</td>\n",
       "      <td>interACT - Designing cooperative interaction o...</td>\n",
       "      <td>['software', 'radar', 'sensors', 'mobile phone...</td>\n",
       "      <td>['Automated Vehicles', 'Mixed Traffic Environm...</td>\n",
       "    </tr>\n",
       "    <tr>\n",
       "      <th>2</th>\n",
       "      <td>Delivering on the 5G promise of increased data...</td>\n",
       "      <td>5GCITY - 5GCITY</td>\n",
       "      <td>['smart cities', '5G', 'software']</td>\n",
       "      <td>['5G Networks', 'Edge Computing', 'Cloud Compu...</td>\n",
       "    </tr>\n",
       "    <tr>\n",
       "      <th>3</th>\n",
       "      <td>From beacon fires in early civilizations to em...</td>\n",
       "      <td>Light UP - Visible Light Ultrafast Photodetect...</td>\n",
       "      <td>['internet of things', 'optical sensors', 'sem...</td>\n",
       "      <td>['Optical Wireless Communication', 'Flexible E...</td>\n",
       "    </tr>\n",
       "    <tr>\n",
       "      <th>4</th>\n",
       "      <td>5G-DRIVE will trial and validate the interoper...</td>\n",
       "      <td>5G-DRIVE - 5G HarmoniseD Research and TrIals f...</td>\n",
       "      <td>['5G', 'business models']</td>\n",
       "      <td>['5G', '5G Harmonisation', '5G Research and De...</td>\n",
       "    </tr>\n",
       "  </tbody>\n",
       "</table>\n",
       "</div>"
      ],
      "text/plain": [
       "                                         description  \\\n",
       "0  Key objectives of METIS-II are to develop the ...   \n",
       "1  There is currently a high desire by manufactur...   \n",
       "2  Delivering on the 5G promise of increased data...   \n",
       "3  From beacon fires in early civilizations to em...   \n",
       "4  5G-DRIVE will trial and validate the interoper...   \n",
       "\n",
       "                                                name  \\\n",
       "0  METIS-II - Mobile and wireless communications ...   \n",
       "1  interACT - Designing cooperative interaction o...   \n",
       "2                                    5GCITY - 5GCITY   \n",
       "3  Light UP - Visible Light Ultrafast Photodetect...   \n",
       "4  5G-DRIVE - 5G HarmoniseD Research and TrIals f...   \n",
       "\n",
       "                                                  gt  \\\n",
       "0  ['5G', 'topology', 'revolutions', 'radio techn...   \n",
       "1  ['software', 'radar', 'sensors', 'mobile phone...   \n",
       "2                 ['smart cities', '5G', 'software']   \n",
       "3  ['internet of things', 'optical sensors', 'sem...   \n",
       "4                          ['5G', 'business models']   \n",
       "\n",
       "                                              topics  \n",
       "0  ['5G', 'Radio Access Network', 'Wireless Commu...  \n",
       "1  ['Automated Vehicles', 'Mixed Traffic Environm...  \n",
       "2  ['5G Networks', 'Edge Computing', 'Cloud Compu...  \n",
       "3  ['Optical Wireless Communication', 'Flexible E...  \n",
       "4  ['5G', '5G Harmonisation', '5G Research and De...  "
      ]
     },
     "execution_count": 14,
     "metadata": {},
     "output_type": "execute_result"
    }
   ],
   "source": [
    "df = pd.read_csv('/home/rz20505/Documents/ask-jgi/data/labelled/llama-3-telecoms-topics.csv')\n",
    "df.head()"
   ]
  },
  {
   "cell_type": "code",
   "execution_count": 15,
   "metadata": {},
   "outputs": [
    {
     "data": {
      "text/plain": [
       "(522, 4)"
      ]
     },
     "execution_count": 15,
     "metadata": {},
     "output_type": "execute_result"
    }
   ],
   "source": [
    "df.shape"
   ]
  },
  {
   "cell_type": "code",
   "execution_count": 16,
   "metadata": {},
   "outputs": [],
   "source": [
    "df['topics'] = df['topics'].apply(lambda x: ast.literal_eval(x) if x else [])\n",
    "df['gt'] = df['gt'].apply(lambda x: ast.literal_eval(x) if x else [])"
   ]
  },
  {
   "cell_type": "code",
   "execution_count": 17,
   "metadata": {},
   "outputs": [
    {
     "data": {
      "text/plain": [
       "5     316\n",
       "4      85\n",
       "3      71\n",
       "2      37\n",
       "1      12\n",
       "10      1\n",
       "Name: gt, dtype: int64"
      ]
     },
     "execution_count": 17,
     "metadata": {},
     "output_type": "execute_result"
    }
   ],
   "source": [
    "# count empty lists\n",
    "df['topics'].apply(lambda x: len(x)).value_counts()\n",
    "\n",
    "df['gt'].apply(lambda x: len(x)).value_counts()"
   ]
  },
  {
   "cell_type": "code",
   "execution_count": 18,
   "metadata": {},
   "outputs": [],
   "source": [
    "y = df['gt']\n",
    "pred = df['topics']"
   ]
  },
  {
   "cell_type": "code",
   "execution_count": null,
   "metadata": {},
   "outputs": [],
   "source": []
  }
 ],
 "metadata": {
  "kernelspec": {
   "display_name": "text-labels",
   "language": "python",
   "name": "python3"
  },
  "language_info": {
   "codemirror_mode": {
    "name": "ipython",
    "version": 3
   },
   "file_extension": ".py",
   "mimetype": "text/x-python",
   "name": "python",
   "nbconvert_exporter": "python",
   "pygments_lexer": "ipython3",
   "version": "3.8.15"
  }
 },
 "nbformat": 4,
 "nbformat_minor": 2
}
