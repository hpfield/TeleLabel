{
 "cells": [
  {
   "cell_type": "code",
   "execution_count": 1,
   "metadata": {},
   "outputs": [],
   "source": [
    "import pandas as pd"
   ]
  },
  {
   "cell_type": "markdown",
   "metadata": {},
   "source": [
    "### 1 uses all-in-one system and user prompt, 2 splits it into a system and user message"
   ]
  },
  {
   "cell_type": "code",
   "execution_count": 2,
   "metadata": {},
   "outputs": [],
   "source": [
    "df1 = pd.read_csv('/home/rz20505/Documents/ask-jgi/data/labelled/llama-3-telecoms-topics-test.csv')\n",
    "df2 = pd.read_csv('/home/rz20505/Documents/ask-jgi/data/labelled/llama-3-telecoms-topics-test-2.csv')"
   ]
  },
  {
   "cell_type": "code",
   "execution_count": 5,
   "metadata": {},
   "outputs": [
    {
     "name": "stdout",
     "output_type": "stream",
     "text": [
      "df1 topics: 190\n",
      "df2 topics: 199\n"
     ]
    }
   ],
   "source": [
    "# Compare the number of items in the topics column for each df as a sum of the number of topics per row\n",
    "df1_topics = df1['topics'].str.split(',').apply(lambda x: len(x)).sum()\n",
    "df2_topics = df2['topics'].str.split(',').apply(lambda x: len(x)).sum()\n",
    "\n",
    "print(f\"df1 topics: {df1_topics}\")\n",
    "print(f\"df2 topics: {df2_topics}\")"
   ]
  },
  {
   "cell_type": "code",
   "execution_count": null,
   "metadata": {},
   "outputs": [],
   "source": []
  }
 ],
 "metadata": {
  "kernelspec": {
   "display_name": "text-labels",
   "language": "python",
   "name": "python3"
  },
  "language_info": {
   "codemirror_mode": {
    "name": "ipython",
    "version": 3
   },
   "file_extension": ".py",
   "mimetype": "text/x-python",
   "name": "python",
   "nbconvert_exporter": "python",
   "pygments_lexer": "ipython3",
   "version": "3.8.15"
  }
 },
 "nbformat": 4,
 "nbformat_minor": 2
}
