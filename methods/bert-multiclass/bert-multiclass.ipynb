{
 "cells": [
  {
   "cell_type": "code",
   "execution_count": 1,
   "metadata": {},
   "outputs": [
    {
     "data": {
      "text/html": [
       "<div>\n",
       "<style scoped>\n",
       "    .dataframe tbody tr th:only-of-type {\n",
       "        vertical-align: middle;\n",
       "    }\n",
       "\n",
       "    .dataframe tbody tr th {\n",
       "        vertical-align: top;\n",
       "    }\n",
       "\n",
       "    .dataframe thead th {\n",
       "        text-align: right;\n",
       "    }\n",
       "</style>\n",
       "<table border=\"1\" class=\"dataframe\">\n",
       "  <thead>\n",
       "    <tr style=\"text-align: right;\">\n",
       "      <th></th>\n",
       "      <th>text</th>\n",
       "      <th>topics</th>\n",
       "    </tr>\n",
       "  </thead>\n",
       "  <tbody>\n",
       "    <tr>\n",
       "      <th>0</th>\n",
       "      <td>Title: METIS-II - Mobile and wireless communic...</td>\n",
       "      <td>[\"5G\", \"radio technology\"]</td>\n",
       "    </tr>\n",
       "    <tr>\n",
       "      <th>1</th>\n",
       "      <td>Title: interACT - Designing cooperative intera...</td>\n",
       "      <td>[\"radar\", \"mobile phones\"]</td>\n",
       "    </tr>\n",
       "    <tr>\n",
       "      <th>2</th>\n",
       "      <td>Title: 5GCITY - 5GCITY Abstract: Delivering on...</td>\n",
       "      <td>[\"5G\"]</td>\n",
       "    </tr>\n",
       "    <tr>\n",
       "      <th>3</th>\n",
       "      <td>Title: Light UP - Visible Light Ultrafast Phot...</td>\n",
       "      <td>[\"radio technology\"]</td>\n",
       "    </tr>\n",
       "    <tr>\n",
       "      <th>4</th>\n",
       "      <td>Title: 5G-DRIVE - 5G HarmoniseD Research and T...</td>\n",
       "      <td>[\"5G\"]</td>\n",
       "    </tr>\n",
       "  </tbody>\n",
       "</table>\n",
       "</div>"
      ],
      "text/plain": [
       "                                                text  \\\n",
       "0  Title: METIS-II - Mobile and wireless communic...   \n",
       "1  Title: interACT - Designing cooperative intera...   \n",
       "2  Title: 5GCITY - 5GCITY Abstract: Delivering on...   \n",
       "3  Title: Light UP - Visible Light Ultrafast Phot...   \n",
       "4  Title: 5G-DRIVE - 5G HarmoniseD Research and T...   \n",
       "\n",
       "                       topics  \n",
       "0  [\"5G\", \"radio technology\"]  \n",
       "1  [\"radar\", \"mobile phones\"]  \n",
       "2                      [\"5G\"]  \n",
       "3        [\"radio technology\"]  \n",
       "4                      [\"5G\"]  "
      ]
     },
     "execution_count": 1,
     "metadata": {},
     "output_type": "execute_result"
    }
   ],
   "source": [
    "import pandas as pd\n",
    "\n",
    "# Load the dataset\n",
    "df = pd.read_csv('../../data/cordis-multilabel-telecoms.csv')\n",
    "\n",
    "# Display the first few rows to understand the structure\n",
    "df.head()\n"
   ]
  },
  {
   "cell_type": "code",
   "execution_count": 6,
   "metadata": {},
   "outputs": [
    {
     "name": "stderr",
     "output_type": "stream",
     "text": [
      "/home/rz20505/miniforge3/envs/text-labels/lib/python3.8/site-packages/huggingface_hub/file_download.py:1132: FutureWarning: `resume_download` is deprecated and will be removed in version 1.0.0. Downloads always resume when possible. If you want to force a new download, use `force_download=True`.\n",
      "  warnings.warn(\n"
     ]
    },
    {
     "name": "stdout",
     "output_type": "stream",
     "text": [
      "Input IDs shape: torch.Size([1044, 512])\n",
      "Attention masks shape: torch.Size([1044, 512])\n",
      "Labels shape: torch.Size([1044, 560])\n"
     ]
    }
   ],
   "source": [
    "from transformers import BertTokenizer\n",
    "import torch\n",
    "\n",
    "# Initialize the tokenizer\n",
    "tokenizer = BertTokenizer.from_pretrained('bert-base-uncased')\n",
    "\n",
    "# Tokenize the abstracts\n",
    "tokenized_data = tokenizer(list(df['text'].values), padding='max_length', truncation=True, max_length=512, return_tensors=\"pt\")\n",
    "\n",
    "# Build the label list\n",
    "unique_labels = sorted(set(label for sublist in df['topics'].apply(eval).tolist() for label in sublist))\n",
    "label_map = {label: i for i, label in enumerate(unique_labels)}\n",
    "\n",
    "# Encode the labels\n",
    "def encode_labels(labels):\n",
    "    label_ids = [0] * len(label_map)\n",
    "    for label in labels:\n",
    "        if label in label_map:\n",
    "            label_ids[label_map[label]] = 1\n",
    "    return label_ids\n",
    "\n",
    "encoded_labels = df['topics'].apply(lambda x: encode_labels(eval(x)))\n",
    "\n",
    "# Convert to lists\n",
    "input_ids = tokenized_data['input_ids']\n",
    "attention_masks = tokenized_data['attention_mask']\n",
    "labels = torch.tensor(encoded_labels.tolist()).float()\n",
    "\n",
    "# Print shapes for verification\n",
    "print(f\"Input IDs shape: {input_ids.shape}\")\n",
    "print(f\"Attention masks shape: {attention_masks.shape}\")\n",
    "print(f\"Labels shape: {labels.shape}\")\n",
    "\n"
   ]
  },
  {
   "cell_type": "code",
   "execution_count": 7,
   "metadata": {},
   "outputs": [],
   "source": [
    "from torch.utils.data import Dataset, DataLoader, random_split\n",
    "\n",
    "class AbstractDataset(Dataset):\n",
    "    def __init__(self, input_ids, attention_masks, labels):\n",
    "        self.input_ids = input_ids\n",
    "        self.attention_masks = attention_masks\n",
    "        self.labels = labels\n",
    "\n",
    "    def __len__(self):\n",
    "        return len(self.labels)\n",
    "\n",
    "    def __getitem__(self, idx):\n",
    "        return {\n",
    "            'input_ids': self.input_ids[idx],\n",
    "            'attention_mask': self.attention_masks[idx],\n",
    "            'labels': self.labels[idx]\n",
    "        }\n",
    "\n",
    "# Create the dataset\n",
    "dataset = AbstractDataset(input_ids, attention_masks, labels)\n",
    "\n",
    "# Split the dataset into train and validation sets\n",
    "train_size = int(0.8 * len(dataset))\n",
    "val_size = len(dataset) - train_size\n",
    "train_dataset, val_dataset = random_split(dataset, [train_size, val_size])\n",
    "\n",
    "# Create DataLoaders\n",
    "train_dataloader = DataLoader(train_dataset, batch_size=8, shuffle=True)\n",
    "val_dataloader = DataLoader(val_dataset, batch_size=8)\n"
   ]
  },
  {
   "cell_type": "code",
   "execution_count": 10,
   "metadata": {},
   "outputs": [
    {
     "name": "stderr",
     "output_type": "stream",
     "text": [
      "/home/rz20505/miniforge3/envs/text-labels/lib/python3.8/site-packages/huggingface_hub/file_download.py:1132: FutureWarning: `resume_download` is deprecated and will be removed in version 1.0.0. Downloads always resume when possible. If you want to force a new download, use `force_download=True`.\n",
      "  warnings.warn(\n",
      "Some weights of BertForSequenceClassification were not initialized from the model checkpoint at bert-base-uncased and are newly initialized: ['classifier.bias', 'classifier.weight']\n",
      "You should probably TRAIN this model on a down-stream task to be able to use it for predictions and inference.\n",
      "/home/rz20505/miniforge3/envs/text-labels/lib/python3.8/site-packages/accelerate/accelerator.py:446: FutureWarning: Passing the following arguments to `Accelerator` is deprecated and will be removed in version 1.0 of Accelerate: dict_keys(['dispatch_batches']). Please pass an `accelerate.DataLoaderConfiguration` instead: \n",
      "dataloader_config = DataLoaderConfiguration(dispatch_batches=None)\n",
      "  warnings.warn(\n"
     ]
    },
    {
     "data": {
      "application/vnd.jupyter.widget-view+json": {
       "model_id": "31c5d51e7f6348a598b579b553642ea4",
       "version_major": 2,
       "version_minor": 0
      },
      "text/plain": [
       "  0%|          | 0/315 [00:00<?, ?it/s]"
      ]
     },
     "metadata": {},
     "output_type": "display_data"
    },
    {
     "name": "stdout",
     "output_type": "stream",
     "text": [
      "{'loss': 0.6974, 'learning_rate': 1.0000000000000002e-06, 'epoch': 0.1}\n",
      "{'loss': 0.6923, 'learning_rate': 2.0000000000000003e-06, 'epoch': 0.19}\n",
      "{'loss': 0.6852, 'learning_rate': 3e-06, 'epoch': 0.29}\n",
      "{'loss': 0.676, 'learning_rate': 4.000000000000001e-06, 'epoch': 0.38}\n",
      "{'loss': 0.6637, 'learning_rate': 5e-06, 'epoch': 0.48}\n",
      "{'loss': 0.6462, 'learning_rate': 6e-06, 'epoch': 0.57}\n",
      "{'loss': 0.6254, 'learning_rate': 7.000000000000001e-06, 'epoch': 0.67}\n",
      "{'loss': 0.6021, 'learning_rate': 8.000000000000001e-06, 'epoch': 0.76}\n",
      "{'loss': 0.5769, 'learning_rate': 9e-06, 'epoch': 0.86}\n",
      "{'loss': 0.5509, 'learning_rate': 1e-05, 'epoch': 0.95}\n"
     ]
    },
    {
     "data": {
      "application/vnd.jupyter.widget-view+json": {
       "model_id": "0f25c29b43ee4d17984f307ca0be2acd",
       "version_major": 2,
       "version_minor": 0
      },
      "text/plain": [
       "  0%|          | 0/27 [00:00<?, ?it/s]"
      ]
     },
     "metadata": {},
     "output_type": "display_data"
    },
    {
     "name": "stdout",
     "output_type": "stream",
     "text": [
      "{'eval_loss': 0.5148403644561768, 'eval_f1': 0.008548150126886603, 'eval_precision': 0.004420194764831825, 'eval_recall': 0.1292929292929293, 'eval_runtime': 1.0151, 'eval_samples_per_second': 205.9, 'eval_steps_per_second': 26.599, 'epoch': 1.0}\n",
      "{'loss': 0.521, 'learning_rate': 1.1000000000000001e-05, 'epoch': 1.05}\n",
      "{'loss': 0.4901, 'learning_rate': 1.2e-05, 'epoch': 1.14}\n",
      "{'loss': 0.4564, 'learning_rate': 1.3000000000000001e-05, 'epoch': 1.24}\n",
      "{'loss': 0.4219, 'learning_rate': 1.4000000000000001e-05, 'epoch': 1.33}\n",
      "{'loss': 0.3874, 'learning_rate': 1.5e-05, 'epoch': 1.43}\n",
      "{'loss': 0.3523, 'learning_rate': 1.6000000000000003e-05, 'epoch': 1.52}\n",
      "{'loss': 0.3205, 'learning_rate': 1.7000000000000003e-05, 'epoch': 1.62}\n",
      "{'loss': 0.29, 'learning_rate': 1.8e-05, 'epoch': 1.71}\n",
      "{'loss': 0.2618, 'learning_rate': 1.9e-05, 'epoch': 1.81}\n",
      "{'loss': 0.2363, 'learning_rate': 2e-05, 'epoch': 1.9}\n",
      "{'loss': 0.2147, 'learning_rate': 2.1e-05, 'epoch': 2.0}\n"
     ]
    },
    {
     "data": {
      "application/vnd.jupyter.widget-view+json": {
       "model_id": "e516c58278444be187db5c513f893e38",
       "version_major": 2,
       "version_minor": 0
      },
      "text/plain": [
       "  0%|          | 0/27 [00:00<?, ?it/s]"
      ]
     },
     "metadata": {},
     "output_type": "display_data"
    },
    {
     "name": "stderr",
     "output_type": "stream",
     "text": [
      "/home/rz20505/miniforge3/envs/text-labels/lib/python3.8/site-packages/sklearn/metrics/_classification.py:1471: UndefinedMetricWarning: Precision is ill-defined and being set to 0.0 due to no predicted samples. Use `zero_division` parameter to control this behavior.\n",
      "  _warn_prf(average, modifier, msg_start, len(result))\n"
     ]
    },
    {
     "name": "stdout",
     "output_type": "stream",
     "text": [
      "{'eval_loss': 0.19787342846393585, 'eval_f1': 0.0, 'eval_precision': 0.0, 'eval_recall': 0.0, 'eval_runtime': 0.9958, 'eval_samples_per_second': 209.871, 'eval_steps_per_second': 27.113, 'epoch': 2.0}\n",
      "{'loss': 0.1919, 'learning_rate': 2.2000000000000003e-05, 'epoch': 2.1}\n",
      "{'loss': 0.1744, 'learning_rate': 2.3000000000000003e-05, 'epoch': 2.19}\n",
      "{'loss': 0.1573, 'learning_rate': 2.4e-05, 'epoch': 2.29}\n",
      "{'loss': 0.1424, 'learning_rate': 2.5e-05, 'epoch': 2.38}\n",
      "{'loss': 0.1312, 'learning_rate': 2.6000000000000002e-05, 'epoch': 2.48}\n",
      "{'loss': 0.1205, 'learning_rate': 2.7000000000000002e-05, 'epoch': 2.57}\n",
      "{'loss': 0.1089, 'learning_rate': 2.8000000000000003e-05, 'epoch': 2.67}\n",
      "{'loss': 0.1029, 'learning_rate': 2.9e-05, 'epoch': 2.76}\n",
      "{'loss': 0.0951, 'learning_rate': 3e-05, 'epoch': 2.86}\n",
      "{'loss': 0.0876, 'learning_rate': 3.1e-05, 'epoch': 2.95}\n"
     ]
    },
    {
     "data": {
      "application/vnd.jupyter.widget-view+json": {
       "model_id": "7890ad9b5fd6434cac019ba7c1f0816c",
       "version_major": 2,
       "version_minor": 0
      },
      "text/plain": [
       "  0%|          | 0/27 [00:00<?, ?it/s]"
      ]
     },
     "metadata": {},
     "output_type": "display_data"
    },
    {
     "name": "stderr",
     "output_type": "stream",
     "text": [
      "/home/rz20505/miniforge3/envs/text-labels/lib/python3.8/site-packages/sklearn/metrics/_classification.py:1471: UndefinedMetricWarning: Precision is ill-defined and being set to 0.0 due to no predicted samples. Use `zero_division` parameter to control this behavior.\n",
      "  _warn_prf(average, modifier, msg_start, len(result))\n"
     ]
    },
    {
     "name": "stdout",
     "output_type": "stream",
     "text": [
      "{'eval_loss': 0.07934024930000305, 'eval_f1': 0.0, 'eval_precision': 0.0, 'eval_recall': 0.0, 'eval_runtime': 1.032, 'eval_samples_per_second': 202.52, 'eval_steps_per_second': 26.163, 'epoch': 3.0}\n",
      "{'train_runtime': 43.6087, 'train_samples_per_second': 57.443, 'train_steps_per_second': 7.223, 'train_loss': 0.37214191508671596, 'epoch': 3.0}\n"
     ]
    },
    {
     "data": {
      "application/vnd.jupyter.widget-view+json": {
       "model_id": "95ddb63afc8448c2b96fc440c3f956c0",
       "version_major": 2,
       "version_minor": 0
      },
      "text/plain": [
       "  0%|          | 0/27 [00:00<?, ?it/s]"
      ]
     },
     "metadata": {},
     "output_type": "display_data"
    },
    {
     "name": "stdout",
     "output_type": "stream",
     "text": [
      "{'eval_loss': 0.5148403644561768, 'eval_f1': 0.008548150126886603, 'eval_precision': 0.004420194764831825, 'eval_recall': 0.1292929292929293, 'eval_runtime': 1.0241, 'eval_samples_per_second': 204.089, 'eval_steps_per_second': 26.366, 'epoch': 3.0}\n"
     ]
    }
   ],
   "source": [
    "from transformers import BertForSequenceClassification, Trainer, TrainingArguments\n",
    "from sklearn.metrics import f1_score, precision_score, recall_score\n",
    "import json\n",
    "\n",
    "# Load the model\n",
    "model = BertForSequenceClassification.from_pretrained('bert-base-uncased', num_labels=len(label_map), problem_type=\"multi_label_classification\")\n",
    "\n",
    "# Define the training arguments\n",
    "training_args = TrainingArguments(\n",
    "    output_dir='./results',\n",
    "    num_train_epochs=3,\n",
    "    per_device_train_batch_size=8,\n",
    "    per_device_eval_batch_size=8,\n",
    "    warmup_steps=500,\n",
    "    weight_decay=0.01,\n",
    "    logging_dir='./logs',\n",
    "    logging_steps=10,\n",
    "    evaluation_strategy=\"epoch\",\n",
    "    save_strategy=\"epoch\",  # Save model every epoch\n",
    "    load_best_model_at_end=True,  # Load the best model at the end of training\n",
    "    metric_for_best_model='f1'  # Metric to use for choosing the best model\n",
    ")\n",
    "\n",
    "# Define metrics for evaluation\n",
    "def compute_metrics(p):\n",
    "    # Apply sigmoid to the predictions\n",
    "    probs = torch.sigmoid(torch.tensor(p.predictions))\n",
    "    \n",
    "    # Apply threshold to get binary predictions\n",
    "    preds = probs > 0.5\n",
    "    \n",
    "    # Convert predictions and labels to numpy arrays\n",
    "    preds = preds.cpu().numpy()\n",
    "    labels = p.label_ids\n",
    "    \n",
    "    # Compute metrics\n",
    "    f1 = f1_score(labels, preds, average='micro')\n",
    "    precision = precision_score(labels, preds, average='micro')\n",
    "    recall = recall_score(labels, preds, average='micro')\n",
    "    \n",
    "    # Print a few sample predictions and labels for debugging\n",
    "    for i in range(5):\n",
    "        print(f\"Sample {i}:\")\n",
    "        print(f\"Predictions: {preds[i]}\")\n",
    "        print(f\"Labels: {labels[i]}\")\n",
    "    \n",
    "    return {'f1': f1, 'precision': precision, 'recall': recall}\n",
    "\n",
    "# Define the trainer\n",
    "trainer = Trainer(\n",
    "    model=model,\n",
    "    args=training_args,\n",
    "    train_dataset=train_dataset,\n",
    "    eval_dataset=val_dataset,\n",
    "    compute_metrics=compute_metrics\n",
    ")\n",
    "\n",
    "# Train the model\n",
    "trainer.train()\n",
    "\n",
    "# Evaluate the model\n",
    "metrics = trainer.evaluate()\n",
    "\n",
    "# Save the model\n",
    "model.save_pretrained('./model')\n",
    "\n",
    "# Save the tokenizer\n",
    "tokenizer.save_pretrained('./model')\n",
    "\n",
    "# Save the metrics to a file\n",
    "with open('metrics.json', 'w') as f:\n",
    "    json.dump(metrics, f)\n",
    "\n",
    "# Print the metrics\n",
    "print(metrics)"
   ]
  },
  {
   "cell_type": "code",
   "execution_count": null,
   "metadata": {},
   "outputs": [],
   "source": []
  }
 ],
 "metadata": {
  "kernelspec": {
   "display_name": "text-labels",
   "language": "python",
   "name": "python3"
  },
  "language_info": {
   "codemirror_mode": {
    "name": "ipython",
    "version": 3
   },
   "file_extension": ".py",
   "mimetype": "text/x-python",
   "name": "python",
   "nbconvert_exporter": "python",
   "pygments_lexer": "ipython3",
   "version": "3.8.15"
  }
 },
 "nbformat": 4,
 "nbformat_minor": 2
}
